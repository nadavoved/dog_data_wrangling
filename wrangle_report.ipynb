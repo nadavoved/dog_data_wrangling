{
 "cells": [
  {
   "cell_type": "markdown",
   "id": "e78aeddf",
   "metadata": {},
   "source": [
    "# Wrangling Report\n",
    "___\n",
    "## *Section #1 - Gathering Data*\n",
    "I began by manually downloading `'twitter-archive-enhanced.csv'` from Udacity's given URL.\n",
    "Then, I created the module `gather.py` ***(detailed docstrings within the module)***, \n",
    "which consists of the functions I needed in order to gather the required data. \n",
    "The first method - `gather.download_file_from_url` was used to download and save\n",
    "the `image_predictions.tsv` file programmatically. Then, I went on to create the functions necessary for\n",
    "getting WeRateDogs' retweet and favorites counts:\n",
    "1. `gather.get_auth`, which returns an auth object required for getting tweet's data from the tweeter API.\n",
    "2. `gather.dump_tweets_data`, which dumps json-formatted counts data into `tweets_data.json`.\n",
    "\n",
    "*SIDENOTE: It was crucial to take account of the API's rate limit, \n",
    "otherwise a lot of valid data would be ignored by the function.*\n",
    "\n",
    "Finally, I loaded the collected data into three DataFrames:\n",
    "1. `archive_original` for `'twitter-archive-enhanced.csv'`.\n",
    "2. `tweet_cnts` for `tweets_data.json`.\n",
    "3. `img_preds` for `image_predictions.tsv`.\n",
    "\n",
    "At a quick glance, I noticed that in all of the above frames the id column is cast by default as int, So as a quick quality fix\n",
    "I've cast them to `str`, as the latter would be the appropriate data type for id.\n",
    "## Section #2 - Assessing Data\n",
    "\n",
    "## Section #3 - Cleaning Data"
   ]
  }
 ],
 "metadata": {
  "kernelspec": {
   "display_name": "Python 3 (ipykernel)",
   "language": "python",
   "name": "python3"
  },
  "language_info": {
   "codemirror_mode": {
    "name": "ipython",
    "version": 3
   },
   "file_extension": ".py",
   "mimetype": "text/x-python",
   "name": "python",
   "nbconvert_exporter": "python",
   "pygments_lexer": "ipython3",
   "version": "3.11.0"
  }
 },
 "nbformat": 4,
 "nbformat_minor": 5
}
