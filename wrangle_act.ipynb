{
 "cells": [
  {
   "cell_type": "markdown",
   "metadata": {
    "extensions": {
     "jupyter_dashboards": {
      "version": 1,
      "views": {
       "grid_default": {
        "col": 0,
        "height": 4,
        "hidden": false,
        "row": 0,
        "width": 4
       },
       "report_default": {
        "hidden": false
       }
      }
     }
    }
   },
   "source": [
    "# Project: Wrangling and Analyze Data\n",
    "___"
   ]
  },
  {
   "cell_type": "markdown",
   "metadata": {},
   "source": [
    "# Data Gathering"
   ]
  },
  {
   "cell_type": "code",
   "execution_count": 971,
   "metadata": {},
   "outputs": [],
   "source": [
    "import pandas as pd"
   ]
  },
  {
   "cell_type": "code",
   "execution_count": 972,
   "metadata": {},
   "outputs": [],
   "source": [
    "import gather # gathering functions module, shift+tab on each function call bellow for more details."
   ]
  },
  {
   "cell_type": "markdown",
   "metadata": {},
   "source": [
    "1. ~Directly download the WeRateDogs Twitter archive data (twitter_archive_enhanced.csv)~\n",
    "___"
   ]
  },
  {
   "cell_type": "markdown",
   "metadata": {},
   "source": [
    "### 2. Use the Requests library to download the tweet image prediction (image_predictions.tsv)"
   ]
  },
  {
   "cell_type": "markdown",
   "metadata": {},
   "source": [
    "`gather.download_file_from_url(url_path='data/link.txt', destination='data/image_predictions.tsv')` **\\*file already exists**"
   ]
  },
  {
   "cell_type": "code",
   "execution_count": 973,
   "metadata": {},
   "outputs": [
    {
     "name": "stdout",
     "output_type": "stream",
     "text": [
      "Help on function download_file_from_url in module gather:\n",
      "\n",
      "download_file_from_url(url_path, destination)\n",
      "    Save File From a given url.\n",
      "    \n",
      "    :param url_path: (str) a path a file containing the url.\n",
      "    :param destination: (str) a path to save the response at.\n",
      "\n"
     ]
    }
   ],
   "source": [
    "help(gather.download_file_from_url) # doc for the above function"
   ]
  },
  {
   "cell_type": "markdown",
   "metadata": {},
   "source": [
    "___"
   ]
  },
  {
   "cell_type": "markdown",
   "metadata": {},
   "source": [
    "### 3. Use the Tweepy library to query additional data via the Twitter API (tweet_json.txt)"
   ]
  },
  {
   "cell_type": "markdown",
   "metadata": {},
   "source": [
    "**Archive data DataFrame:**"
   ]
  },
  {
   "cell_type": "code",
   "execution_count": 974,
   "metadata": {
    "scrolled": true
   },
   "outputs": [
    {
     "name": "stdout",
     "output_type": "stream",
     "text": [
      "<class 'pandas.core.frame.DataFrame'>\n",
      "RangeIndex: 2356 entries, 0 to 2355\n",
      "Data columns (total 17 columns):\n",
      " #   Column                      Non-Null Count  Dtype  \n",
      "---  ------                      --------------  -----  \n",
      " 0   tweet_id                    2356 non-null   string \n",
      " 1   in_reply_to_status_id       78 non-null     float64\n",
      " 2   in_reply_to_user_id         78 non-null     float64\n",
      " 3   timestamp                   2356 non-null   object \n",
      " 4   source                      2356 non-null   object \n",
      " 5   text                        2356 non-null   object \n",
      " 6   retweeted_status_id         181 non-null    float64\n",
      " 7   retweeted_status_user_id    181 non-null    float64\n",
      " 8   retweeted_status_timestamp  181 non-null    object \n",
      " 9   expanded_urls               2297 non-null   object \n",
      " 10  rating_numerator            2356 non-null   int64  \n",
      " 11  rating_denominator          2356 non-null   int64  \n",
      " 12  name                        2356 non-null   object \n",
      " 13  doggo                       2356 non-null   object \n",
      " 14  floofer                     2356 non-null   object \n",
      " 15  pupper                      2356 non-null   object \n",
      " 16  puppo                       2356 non-null   object \n",
      "dtypes: float64(4), int64(2), object(10), string(1)\n",
      "memory usage: 313.0+ KB\n"
     ]
    }
   ],
   "source": [
    "archive_original = pd.read_csv('data/twitter-archive-enhanced.csv', \n",
    "                               dtype={'tweet_id': pd.StringDtype()})\n",
    "dump_lst = archive_original['tweet_id'] # to get list of id's as strings\n",
    "archive_original.info()"
   ]
  },
  {
   "cell_type": "markdown",
   "metadata": {},
   "source": [
    "**Auth object:** # SEE README"
   ]
  },
  {
   "cell_type": "code",
   "execution_count": 975,
   "metadata": {},
   "outputs": [
    {
     "name": "stdout",
     "output_type": "stream",
     "text": [
      "To redownload or add data, please fill your API credentials (*without any spaces*) at the empty auth file at \"data/auth_blank.txt\".\n"
     ]
    }
   ],
   "source": [
    "auth = gather.get_auth(auth_file='data/auth_blank.txt') # get authentication\n",
    "auth_params = [auth.consumer_key, auth.consumer_secret, auth.access_token, auth.access_token_secret]\n",
    "if not all(auth_params):\n",
    "    print('To redownload or add data, please fill your API credentials (*without any spaces*) '\\\n",
    "    'at the empty auth file at \"data/auth_blank.txt\".')"
   ]
  },
  {
   "cell_type": "markdown",
   "metadata": {},
   "source": [
    "**Dump function:**"
   ]
  },
  {
   "cell_type": "markdown",
   "metadata": {},
   "source": [
    "`gather.dump_tweets_data(id_lst=dump_lst, auth=auth)` **\\*takes about 30 min, file already exists.**\n",
    "***NOTICE-loaded to json instead, relevant attributes only (rt and favorite counts):***"
   ]
  },
  {
   "cell_type": "code",
   "execution_count": 976,
   "metadata": {},
   "outputs": [
    {
     "name": "stdout",
     "output_type": "stream",
     "text": [
      "Help on function dump_tweets_data in module gather:\n",
      "\n",
      "dump_tweets_data(id_lst, auth)\n",
      "    Dump tweets' id, retweet count and favorite count into json file.\n",
      "    \n",
      "    :param id_lst: (list[str]) a list containing tweet id's.\n",
      "    :param auth: (tweepy.auth.OAuth1UserHandler) an auth object.\n",
      "\n"
     ]
    }
   ],
   "source": [
    "help(gather.dump_tweets_data) # doc for the above function"
   ]
  },
  {
   "cell_type": "markdown",
   "metadata": {},
   "source": [
    "___\n",
    "### Additional DataFrames creation:"
   ]
  },
  {
   "cell_type": "markdown",
   "metadata": {},
   "source": [
    "**Tweets' counts DataFrame:**"
   ]
  },
  {
   "cell_type": "code",
   "execution_count": 977,
   "metadata": {},
   "outputs": [
    {
     "name": "stdout",
     "output_type": "stream",
     "text": [
      "<class 'pandas.core.frame.DataFrame'>\n",
      "RangeIndex: 2356 entries, 0 to 2355\n",
      "Data columns (total 3 columns):\n",
      " #   Column          Non-Null Count  Dtype  \n",
      "---  ------          --------------  -----  \n",
      " 0   id              2356 non-null   string \n",
      " 1   favorite_count  2326 non-null   float64\n",
      " 2   retweet_count   2326 non-null   float64\n",
      "dtypes: float64(2), string(1)\n",
      "memory usage: 55.3 KB\n"
     ]
    }
   ],
   "source": [
    "tweet_cnts = pd.read_json('data/tweets_data.json', dtype={'id': pd.StringDtype()})\n",
    "tweet_cnts.info()"
   ]
  },
  {
   "cell_type": "markdown",
   "metadata": {},
   "source": [
    "**image predictions DataFrame:** "
   ]
  },
  {
   "cell_type": "code",
   "execution_count": 978,
   "metadata": {},
   "outputs": [
    {
     "name": "stdout",
     "output_type": "stream",
     "text": [
      "<class 'pandas.core.frame.DataFrame'>\n",
      "RangeIndex: 2075 entries, 0 to 2074\n",
      "Data columns (total 12 columns):\n",
      " #   Column    Non-Null Count  Dtype  \n",
      "---  ------    --------------  -----  \n",
      " 0   tweet_id  2075 non-null   string \n",
      " 1   jpg_url   2075 non-null   object \n",
      " 2   img_num   2075 non-null   int64  \n",
      " 3   p1        2075 non-null   object \n",
      " 4   p1_conf   2075 non-null   float64\n",
      " 5   p1_dog    2075 non-null   bool   \n",
      " 6   p2        2075 non-null   object \n",
      " 7   p2_conf   2075 non-null   float64\n",
      " 8   p2_dog    2075 non-null   bool   \n",
      " 9   p3        2075 non-null   object \n",
      " 10  p3_conf   2075 non-null   float64\n",
      " 11  p3_dog    2075 non-null   bool   \n",
      "dtypes: bool(3), float64(3), int64(1), object(4), string(1)\n",
      "memory usage: 152.1+ KB\n"
     ]
    }
   ],
   "source": [
    "img_preds = pd.read_csv('data/image_predictions.tsv', sep='\\t', \n",
    "                        dtype={'tweet_id': pd.StringDtype()})\n",
    "img_preds.info()"
   ]
  },
  {
   "cell_type": "markdown",
   "metadata": {},
   "source": [
    "---"
   ]
  },
  {
   "cell_type": "markdown",
   "metadata": {},
   "source": [
    "# Assessing Data"
   ]
  },
  {
   "cell_type": "markdown",
   "metadata": {},
   "source": [
    "### Total quality issues - <mark> 8 </mark>\n",
    "### Total tidiness issues - <mark> 4 </mark>"
   ]
  },
  {
   "cell_type": "markdown",
   "metadata": {},
   "source": [
    "## **`archive_original` issues:**\n",
    "### Quality issues - <mark> 7 </mark>\n",
    "- *completeness*\n",
    "    - missing tweet links urls in `expanded_urls` data, even in non empty cells. Detected visually - `archive_original.iloc[313]`, `archive_original.iloc[35]`\n",
    "    - because we would like to clearly see if the relevant id is an original tweet, a boolean column\n",
    "    `is_original` should be included.\n",
    "    - because we would like to clearly see if the relevant id is a reply, a boolean column `is_reply` should be included.\n",
    "- *validity* - \n",
    "    - inappropriate data type for columns `in_reply_to_status_id`,                   \n",
    "    `in_reply_to_user_id`, `retweeted_status_id`, `retweeted_status_user_id`: float -> string\n",
    "    - inappropriate data type for columns `timestamp`, `retweeted_status_timestamp`: object -> datetime. both issues detected by using programmatic detection- `archive_original.info()`\n",
    "    - duplicated links within the same cell in `expanded_urls`. Detected visually - `archive_original['expanded_urls'].iloc[98]`\n",
    "- *consistency* - \n",
    "    - name 'a' appears 55 times in the `name` column, probably representing unknown names, while there are defined None's in the column. Used visual, then programmatic detection-`archive_original['name'].value_counts()`\n",
    "    \n",
    "### Tidiness issues - <mark> 3 </mark>\n",
    "- the 4 leftmost columns describe the same data, should be melted into one categorical column.\n",
    "- retweeted data columns would be better separated as a standalone dataframe.\n",
    "- replies data would be better separated as a standalone dataframe."
   ]
  },
  {
   "cell_type": "markdown",
   "metadata": {},
   "source": [
    "## **`tweet_cnts` issues:**\n",
    "\n",
    "### Quality issues - <mark> 1 </mark>\n",
    "- *validity*\n",
    "    - count columns should be converted to int to avoid confusion.\n",
    "### Tidiness issues - <mark> 1 </mark>\n",
    "- dataframe would be better joined to archive_original, as it consists of general tweets data."
   ]
  },
  {
   "cell_type": "markdown",
   "metadata": {},
   "source": [
    "## **`img_preds` issues:**\n",
    "Used both programmatical and visual assessments, did not observe any issues.\n",
    "Also, no multiple records of same id's. One picture for each id.\n",
    "Used programmatic detection: `len(img_copy[img_copy['tweet_id'].duplicated()])`"
   ]
  },
  {
   "cell_type": "markdown",
   "metadata": {
    "extensions": {
     "jupyter_dashboards": {
      "version": 1,
      "views": {
       "grid_default": {
        "col": 4,
        "height": 4,
        "hidden": false,
        "row": 32,
        "width": 4
       },
       "report_default": {
        "hidden": false
       }
      }
     }
    }
   },
   "source": [
    "___\n",
    "# Cleaning Data"
   ]
  },
  {
   "cell_type": "code",
   "execution_count": 979,
   "metadata": {},
   "outputs": [],
   "source": [
    "# Make copies of original pieces of data\n",
    "archive_copy = archive_original.copy()\n",
    "img_copy = img_preds.copy()\n",
    "tweet_copy = tweet_cnts.copy()"
   ]
  },
  {
   "cell_type": "markdown",
   "metadata": {},
   "source": [
    "## `archive_original` cleaning:"
   ]
  },
  {
   "cell_type": "markdown",
   "metadata": {},
   "source": [
    "### Issue #1: missing `expanded_urls` data."
   ]
  },
  {
   "cell_type": "markdown",
   "metadata": {},
   "source": [
    "#### Define: \n",
    "- concat `tweet_id` to WeRateDogs url prefix where `expanded_urls` is null or tweet url is missing:\n",
    "    - first fill nan\n",
    "    - then check entire column for missing pattern\n",
    "    - finally, append a comma then the pattern to all missing it."
   ]
  },
  {
   "cell_type": "markdown",
   "metadata": {},
   "source": [
    "#### Code"
   ]
  },
  {
   "cell_type": "code",
   "execution_count": 980,
   "metadata": {},
   "outputs": [],
   "source": [
    "val =  'https://twitter.com/dog_rates/status/' + archive_copy['tweet_id']\n",
    "archive_copy['expanded_urls'] = archive_copy['expanded_urls'].fillna(value=val)"
   ]
  },
  {
   "cell_type": "code",
   "execution_count": 981,
   "metadata": {},
   "outputs": [],
   "source": [
    "val = 'https://twitter.com/dog_rates/status/' + archive_copy['tweet_id']\n",
    "archive_copy['expanded_urls'] = archive_copy['expanded_urls'].fillna(value=val)"
   ]
  },
  {
   "cell_type": "code",
   "execution_count": 982,
   "metadata": {},
   "outputs": [],
   "source": [
    "mask = ~archive_copy['expanded_urls'].str.contains(r'https://twitter.com/dog_rates/status/\\d+')\n",
    "missing_locs = archive_copy[mask].index # useful for later testing\n",
    "archive_copy.loc[missing_locs, 'expanded_urls'] += ',' + val"
   ]
  },
  {
   "cell_type": "markdown",
   "metadata": {},
   "source": [
    "#### Test"
   ]
  },
  {
   "cell_type": "code",
   "execution_count": 983,
   "metadata": {
    "scrolled": true
   },
   "outputs": [
    {
     "data": {
      "text/plain": [
       "True"
      ]
     },
     "execution_count": 983,
     "metadata": {},
     "output_type": "execute_result"
    }
   ],
   "source": [
    "all(archive_copy['expanded_urls'].str.contains(r'https://twitter.com/dog_rates/status/\\d+'))"
   ]
  },
  {
   "cell_type": "code",
   "execution_count": 984,
   "metadata": {},
   "outputs": [
    {
     "data": {
      "text/plain": [
       "'https://twitter.com/4bonds2carbon/status/885517367337512960,https://twitter.com/dog_rates/status/885518971528720385'"
      ]
     },
     "execution_count": 984,
     "metadata": {},
     "output_type": "execute_result"
    }
   ],
   "source": [
    "archive_copy.loc[missing_locs, 'expanded_urls'].iloc[0]"
   ]
  },
  {
   "cell_type": "markdown",
   "metadata": {},
   "source": [
    "### Issue #2: because we would like to clearly see if the relevant id is an original tweet, a boolean column is_original should be included."
   ]
  },
  {
   "cell_type": "markdown",
   "metadata": {
    "collapsed": true,
    "extensions": {
     "jupyter_dashboards": {
      "version": 1,
      "views": {
       "grid_default": {
        "hidden": true
       },
       "report_default": {
        "hidden": true
       }
      }
     }
    }
   },
   "source": [
    "#### Define\n",
    "- if `retweeted_status_id` is null, then `is_original` is True, else False."
   ]
  },
  {
   "cell_type": "markdown",
   "metadata": {},
   "source": [
    "#### Code"
   ]
  },
  {
   "cell_type": "code",
   "execution_count": 985,
   "metadata": {},
   "outputs": [],
   "source": [
    "archive_copy['is_original'] = archive_copy['retweeted_status_id'].isna()"
   ]
  },
  {
   "cell_type": "markdown",
   "metadata": {},
   "source": [
    "#### Test"
   ]
  },
  {
   "cell_type": "code",
   "execution_count": 986,
   "metadata": {},
   "outputs": [
    {
     "data": {
      "text/html": [
       "<div>\n",
       "<style scoped>\n",
       "    .dataframe tbody tr th:only-of-type {\n",
       "        vertical-align: middle;\n",
       "    }\n",
       "\n",
       "    .dataframe tbody tr th {\n",
       "        vertical-align: top;\n",
       "    }\n",
       "\n",
       "    .dataframe thead th {\n",
       "        text-align: right;\n",
       "    }\n",
       "</style>\n",
       "<table border=\"1\" class=\"dataframe\">\n",
       "  <thead>\n",
       "    <tr style=\"text-align: right;\">\n",
       "      <th></th>\n",
       "      <th>retweeted_status_id</th>\n",
       "      <th>is_original</th>\n",
       "    </tr>\n",
       "  </thead>\n",
       "  <tbody>\n",
       "    <tr>\n",
       "      <th>19</th>\n",
       "      <td>8.874740e+17</td>\n",
       "      <td>False</td>\n",
       "    </tr>\n",
       "    <tr>\n",
       "      <th>32</th>\n",
       "      <td>8.860537e+17</td>\n",
       "      <td>False</td>\n",
       "    </tr>\n",
       "    <tr>\n",
       "      <th>36</th>\n",
       "      <td>8.305833e+17</td>\n",
       "      <td>False</td>\n",
       "    </tr>\n",
       "    <tr>\n",
       "      <th>68</th>\n",
       "      <td>8.780576e+17</td>\n",
       "      <td>False</td>\n",
       "    </tr>\n",
       "    <tr>\n",
       "      <th>73</th>\n",
       "      <td>8.782815e+17</td>\n",
       "      <td>False</td>\n",
       "    </tr>\n",
       "    <tr>\n",
       "      <th>...</th>\n",
       "      <td>...</td>\n",
       "      <td>...</td>\n",
       "    </tr>\n",
       "    <tr>\n",
       "      <th>1023</th>\n",
       "      <td>6.678667e+17</td>\n",
       "      <td>False</td>\n",
       "    </tr>\n",
       "    <tr>\n",
       "      <th>1043</th>\n",
       "      <td>6.671383e+17</td>\n",
       "      <td>False</td>\n",
       "    </tr>\n",
       "    <tr>\n",
       "      <th>1242</th>\n",
       "      <td>7.119983e+17</td>\n",
       "      <td>False</td>\n",
       "    </tr>\n",
       "    <tr>\n",
       "      <th>2259</th>\n",
       "      <td>6.675487e+17</td>\n",
       "      <td>False</td>\n",
       "    </tr>\n",
       "    <tr>\n",
       "      <th>2260</th>\n",
       "      <td>6.675484e+17</td>\n",
       "      <td>False</td>\n",
       "    </tr>\n",
       "  </tbody>\n",
       "</table>\n",
       "<p>181 rows × 2 columns</p>\n",
       "</div>"
      ],
      "text/plain": [
       "      retweeted_status_id  is_original\n",
       "19           8.874740e+17        False\n",
       "32           8.860537e+17        False\n",
       "36           8.305833e+17        False\n",
       "68           8.780576e+17        False\n",
       "73           8.782815e+17        False\n",
       "...                   ...          ...\n",
       "1023         6.678667e+17        False\n",
       "1043         6.671383e+17        False\n",
       "1242         7.119983e+17        False\n",
       "2259         6.675487e+17        False\n",
       "2260         6.675484e+17        False\n",
       "\n",
       "[181 rows x 2 columns]"
      ]
     },
     "execution_count": 986,
     "metadata": {},
     "output_type": "execute_result"
    }
   ],
   "source": [
    "archive_copy[['retweeted_status_id', 'is_original']][~archive_copy['retweeted_status_id'].isna()]"
   ]
  },
  {
   "cell_type": "markdown",
   "metadata": {},
   "source": [
    "### Issue #3: inappropriate data type for columns in_reply_to_status_id, in_reply_to_user_id, retweeted_status_id, retweeted_status_user_id: float -> string"
   ]
  },
  {
   "cell_type": "markdown",
   "metadata": {
    "collapsed": true,
    "extensions": {
     "jupyter_dashboards": {
      "version": 1,
      "views": {
       "grid_default": {
        "hidden": true
       },
       "report_default": {
        "hidden": true
       }
      }
     }
    }
   },
   "source": [
    "#### Define\n",
    "- iterate over the columns\n",
    "- then, convert the dtype of each one to int in order to disable the scientific notation.\n",
    "- finally, convert the dtype of each one to string."
   ]
  },
  {
   "cell_type": "markdown",
   "metadata": {},
   "source": [
    "#### Code"
   ]
  },
  {
   "cell_type": "code",
   "execution_count": 987,
   "metadata": {},
   "outputs": [],
   "source": [
    "to_convert = ['in_reply_to_status_id', 'in_reply_to_user_id', 'retweeted_status_id', 'retweeted_status_user_id']\n",
    "for col in to_convert:\n",
    "    archive_copy[col] = archive_copy[col].astype(pd.Int64Dtype()).astype(pd.StringDtype())"
   ]
  },
  {
   "cell_type": "markdown",
   "metadata": {},
   "source": [
    "#### Test"
   ]
  },
  {
   "cell_type": "code",
   "execution_count": 988,
   "metadata": {},
   "outputs": [
    {
     "data": {
      "text/plain": [
       "30      886266357075128320\n",
       "55      881607037314052096\n",
       "64      879553827334172672\n",
       "113     870726202742493184\n",
       "148     863425645568774144\n",
       "               ...        \n",
       "2038    671544874165002240\n",
       "2149    669354382627049472\n",
       "2169    667806454573760512\n",
       "2189    668920717132582912\n",
       "2298    667065535570550784\n",
       "Name: in_reply_to_status_id, Length: 78, dtype: string"
      ]
     },
     "execution_count": 988,
     "metadata": {},
     "output_type": "execute_result"
    }
   ],
   "source": [
    "archive_copy['in_reply_to_status_id'][archive_copy['in_reply_to_status_id'].notna()]"
   ]
  },
  {
   "cell_type": "markdown",
   "metadata": {},
   "source": [
    "### Issue #4: inappropriate data type for columns `timestamp`, `retweeted_status_timestamp`: object -> datetime."
   ]
  },
  {
   "cell_type": "markdown",
   "metadata": {},
   "source": [
    "#### Define"
   ]
  },
  {
   "cell_type": "markdown",
   "metadata": {},
   "source": [
    "- convert given columns to datetime using Pandas' `to_datetime` method."
   ]
  },
  {
   "cell_type": "markdown",
   "metadata": {},
   "source": [
    "#### Code"
   ]
  },
  {
   "cell_type": "code",
   "execution_count": 989,
   "metadata": {},
   "outputs": [],
   "source": [
    "to_convert = ['timestamp', 'retweeted_status_timestamp']\n",
    "for col in to_convert:\n",
    "    archive_copy[col] = pd.to_datetime(archive_copy[col])"
   ]
  },
  {
   "cell_type": "markdown",
   "metadata": {},
   "source": [
    "#### Test"
   ]
  },
  {
   "cell_type": "code",
   "execution_count": 990,
   "metadata": {
    "scrolled": false
   },
   "outputs": [
    {
     "name": "stdout",
     "output_type": "stream",
     "text": [
      "<class 'pandas.core.frame.DataFrame'>\n",
      "RangeIndex: 2356 entries, 0 to 2355\n",
      "Data columns (total 2 columns):\n",
      " #   Column                      Non-Null Count  Dtype              \n",
      "---  ------                      --------------  -----              \n",
      " 0   timestamp                   2356 non-null   datetime64[ns, UTC]\n",
      " 1   retweeted_status_timestamp  181 non-null    datetime64[ns, UTC]\n",
      "dtypes: datetime64[ns, UTC](2)\n",
      "memory usage: 36.9 KB\n"
     ]
    }
   ],
   "source": [
    "archive_copy[to_convert].info()"
   ]
  },
  {
   "cell_type": "code",
   "execution_count": 991,
   "metadata": {
    "scrolled": false
   },
   "outputs": [
    {
     "data": {
      "text/html": [
       "<div>\n",
       "<style scoped>\n",
       "    .dataframe tbody tr th:only-of-type {\n",
       "        vertical-align: middle;\n",
       "    }\n",
       "\n",
       "    .dataframe tbody tr th {\n",
       "        vertical-align: top;\n",
       "    }\n",
       "\n",
       "    .dataframe thead th {\n",
       "        text-align: right;\n",
       "    }\n",
       "</style>\n",
       "<table border=\"1\" class=\"dataframe\">\n",
       "  <thead>\n",
       "    <tr style=\"text-align: right;\">\n",
       "      <th></th>\n",
       "      <th>timestamp</th>\n",
       "      <th>retweeted_status_timestamp</th>\n",
       "    </tr>\n",
       "  </thead>\n",
       "  <tbody>\n",
       "    <tr>\n",
       "      <th>0</th>\n",
       "      <td>2017-08-01 16:23:56+00:00</td>\n",
       "      <td>NaT</td>\n",
       "    </tr>\n",
       "    <tr>\n",
       "      <th>1</th>\n",
       "      <td>2017-08-01 00:17:27+00:00</td>\n",
       "      <td>NaT</td>\n",
       "    </tr>\n",
       "    <tr>\n",
       "      <th>2</th>\n",
       "      <td>2017-07-31 00:18:03+00:00</td>\n",
       "      <td>NaT</td>\n",
       "    </tr>\n",
       "    <tr>\n",
       "      <th>3</th>\n",
       "      <td>2017-07-30 15:58:51+00:00</td>\n",
       "      <td>NaT</td>\n",
       "    </tr>\n",
       "    <tr>\n",
       "      <th>4</th>\n",
       "      <td>2017-07-29 16:00:24+00:00</td>\n",
       "      <td>NaT</td>\n",
       "    </tr>\n",
       "    <tr>\n",
       "      <th>...</th>\n",
       "      <td>...</td>\n",
       "      <td>...</td>\n",
       "    </tr>\n",
       "    <tr>\n",
       "      <th>2351</th>\n",
       "      <td>2015-11-16 00:24:50+00:00</td>\n",
       "      <td>NaT</td>\n",
       "    </tr>\n",
       "    <tr>\n",
       "      <th>2352</th>\n",
       "      <td>2015-11-16 00:04:52+00:00</td>\n",
       "      <td>NaT</td>\n",
       "    </tr>\n",
       "    <tr>\n",
       "      <th>2353</th>\n",
       "      <td>2015-11-15 23:21:54+00:00</td>\n",
       "      <td>NaT</td>\n",
       "    </tr>\n",
       "    <tr>\n",
       "      <th>2354</th>\n",
       "      <td>2015-11-15 23:05:30+00:00</td>\n",
       "      <td>NaT</td>\n",
       "    </tr>\n",
       "    <tr>\n",
       "      <th>2355</th>\n",
       "      <td>2015-11-15 22:32:08+00:00</td>\n",
       "      <td>NaT</td>\n",
       "    </tr>\n",
       "  </tbody>\n",
       "</table>\n",
       "<p>2356 rows × 2 columns</p>\n",
       "</div>"
      ],
      "text/plain": [
       "                     timestamp retweeted_status_timestamp\n",
       "0    2017-08-01 16:23:56+00:00                        NaT\n",
       "1    2017-08-01 00:17:27+00:00                        NaT\n",
       "2    2017-07-31 00:18:03+00:00                        NaT\n",
       "3    2017-07-30 15:58:51+00:00                        NaT\n",
       "4    2017-07-29 16:00:24+00:00                        NaT\n",
       "...                        ...                        ...\n",
       "2351 2015-11-16 00:24:50+00:00                        NaT\n",
       "2352 2015-11-16 00:04:52+00:00                        NaT\n",
       "2353 2015-11-15 23:21:54+00:00                        NaT\n",
       "2354 2015-11-15 23:05:30+00:00                        NaT\n",
       "2355 2015-11-15 22:32:08+00:00                        NaT\n",
       "\n",
       "[2356 rows x 2 columns]"
      ]
     },
     "execution_count": 991,
     "metadata": {},
     "output_type": "execute_result"
    }
   ],
   "source": [
    "archive_copy[to_convert]"
   ]
  },
  {
   "cell_type": "markdown",
   "metadata": {},
   "source": [
    "### Issue #5:because we would like to clearly see if the relevant id is a reply, a boolean column `is_reply` should be included."
   ]
  },
  {
   "cell_type": "markdown",
   "metadata": {},
   "source": [
    "#### Define"
   ]
  },
  {
   "cell_type": "markdown",
   "metadata": {},
   "source": [
    "- add a boolean column, `is_reply`: `True` if id has reply data, else `False`."
   ]
  },
  {
   "cell_type": "markdown",
   "metadata": {},
   "source": [
    "#### Code"
   ]
  },
  {
   "cell_type": "code",
   "execution_count": 992,
   "metadata": {},
   "outputs": [],
   "source": [
    "archive_copy['is_reply'] = archive_copy['in_reply_to_user_id'].notna()"
   ]
  },
  {
   "cell_type": "markdown",
   "metadata": {},
   "source": [
    "#### Test"
   ]
  },
  {
   "cell_type": "code",
   "execution_count": 993,
   "metadata": {},
   "outputs": [
    {
     "data": {
      "text/plain": [
       "False    2278\n",
       "True       78\n",
       "Name: is_reply, dtype: int64"
      ]
     },
     "execution_count": 993,
     "metadata": {},
     "output_type": "execute_result"
    }
   ],
   "source": [
    "archive_copy['is_reply'].value_counts(dropna=False)"
   ]
  },
  {
   "cell_type": "markdown",
   "metadata": {},
   "source": [
    "### Issue #6: duplicated links within the same cell in `expanded_url`."
   ]
  },
  {
   "cell_type": "markdown",
   "metadata": {},
   "source": [
    "#### Define"
   ]
  },
  {
   "cell_type": "markdown",
   "metadata": {},
   "source": [
    "- split strings at `,` to list.\n",
    "- set() on the output.\n",
    "- join the set using `,`\n",
    "- apply to column using Pandas' `map` function."
   ]
  },
  {
   "cell_type": "markdown",
   "metadata": {},
   "source": [
    "#### Code"
   ]
  },
  {
   "cell_type": "code",
   "execution_count": 994,
   "metadata": {},
   "outputs": [
    {
     "data": {
      "text/plain": [
       "'https://www.gofundme.com/help-my-baby-sierra-get-better,https://twitter.com/dog_rates/status/873213775632977920/photo/1,https://twitter.com/dog_rates/status/873213775632977920/photo/1'"
      ]
     },
     "execution_count": 994,
     "metadata": {},
     "output_type": "execute_result"
    }
   ],
   "source": [
    "archive_copy['expanded_urls'].iloc[98] # useful for later testing"
   ]
  },
  {
   "cell_type": "code",
   "execution_count": 995,
   "metadata": {},
   "outputs": [],
   "source": [
    "def unique_url(urls: str):\n",
    "    return ','.join(set(urls.split(',')))"
   ]
  },
  {
   "cell_type": "code",
   "execution_count": 996,
   "metadata": {},
   "outputs": [],
   "source": [
    "archive_copy['expanded_urls'] = archive_copy['expanded_urls'].map(unique_url)"
   ]
  },
  {
   "cell_type": "markdown",
   "metadata": {},
   "source": [
    "#### Test"
   ]
  },
  {
   "cell_type": "code",
   "execution_count": 997,
   "metadata": {
    "scrolled": true
   },
   "outputs": [
    {
     "data": {
      "text/plain": [
       "'https://www.gofundme.com/help-my-baby-sierra-get-better,https://twitter.com/dog_rates/status/873213775632977920/photo/1'"
      ]
     },
     "execution_count": 997,
     "metadata": {},
     "output_type": "execute_result"
    }
   ],
   "source": [
    "archive_copy['expanded_urls'].iloc[98]"
   ]
  },
  {
   "cell_type": "markdown",
   "metadata": {},
   "source": [
    "### Issue #7: name 'a' appears 55 times in the `name` column, probably representing unknown names, while there are defined None's in the column."
   ]
  },
  {
   "cell_type": "markdown",
   "metadata": {},
   "source": [
    "#### Define\n",
    "- check if cell value is 'a' or 'None'\n",
    "- if true, convert to Pandas' `NA`\n",
    "- else, do nothing.\n",
    "- apply to column using Pandas' `map`."
   ]
  },
  {
   "cell_type": "code",
   "execution_count": 998,
   "metadata": {},
   "outputs": [],
   "source": [
    "def nullify(cell: str):\n",
    "    if cell in ('a', 'None'):\n",
    "        return pd.NA\n",
    "    return cell"
   ]
  },
  {
   "cell_type": "markdown",
   "metadata": {},
   "source": [
    "#### Code"
   ]
  },
  {
   "cell_type": "code",
   "execution_count": 999,
   "metadata": {},
   "outputs": [
    {
     "name": "stdout",
     "output_type": "stream",
     "text": [
      "<class 'pandas.core.series.Series'>\n",
      "RangeIndex: 2356 entries, 0 to 2355\n",
      "Series name: name\n",
      "Non-Null Count  Dtype \n",
      "--------------  ----- \n",
      "2356 non-null   object\n",
      "dtypes: object(1)\n",
      "memory usage: 18.5+ KB\n"
     ]
    }
   ],
   "source": [
    "archive_copy['name'].info()"
   ]
  },
  {
   "cell_type": "code",
   "execution_count": 1000,
   "metadata": {},
   "outputs": [],
   "source": [
    "def nullify(cell: str):\n",
    "    if cell in ('a', 'None'):\n",
    "        return pd.NA\n",
    "    return cell"
   ]
  },
  {
   "cell_type": "code",
   "execution_count": 1001,
   "metadata": {},
   "outputs": [],
   "source": [
    "archive_copy['name'] = archive_copy['name'].map(nullify)"
   ]
  },
  {
   "cell_type": "markdown",
   "metadata": {},
   "source": [
    "#### Test"
   ]
  },
  {
   "cell_type": "code",
   "execution_count": 1002,
   "metadata": {},
   "outputs": [
    {
     "data": {
      "text/plain": [
       "<NA>          800\n",
       "Charlie        12\n",
       "Cooper         11\n",
       "Lucy           11\n",
       "Oliver         11\n",
       "             ... \n",
       "Aqua            1\n",
       "Chase           1\n",
       "Meatball        1\n",
       "Rorie           1\n",
       "Christoper      1\n",
       "Name: name, Length: 956, dtype: int64"
      ]
     },
     "execution_count": 1002,
     "metadata": {},
     "output_type": "execute_result"
    }
   ],
   "source": [
    "archive_copy['name'].value_counts(dropna=False)"
   ]
  },
  {
   "cell_type": "markdown",
   "metadata": {},
   "source": [
    "### Issue #8: the 4 leftmost columns describe the same data, should be melted into one categorical column."
   ]
  },
  {
   "cell_type": "markdown",
   "metadata": {},
   "source": [
    "#### Define\n",
    "- Use Pandas' `melt` function to melt the columns into a category and value column.\n",
    "- create in a temporary dataframe that consists of only the records which do have a category(not 'None').\n",
    "- drop its excess `value` column\n",
    "- instead of simply removing duplicated id's, format the categories column in the temporary dataframe to include multiple categories for each id, as each tweet can validly contain multiple categories.\n",
    "- convert temp to dtype string for proper nullable data type on left join.\n",
    "- ***NOTE - AS records may have some combination of categories, a string dtype instead would be more approppriate.***\n",
    "- left join `archive_copy` with temp on `tweet_id`\n",
    "- drop the old category columns from `archive_copy`\n"
   ]
  },
  {
   "cell_type": "markdown",
   "metadata": {},
   "source": [
    "#### Code"
   ]
  },
  {
   "cell_type": "code",
   "execution_count": 1003,
   "metadata": {},
   "outputs": [],
   "source": [
    "temp = pd.melt(archive_copy, id_vars='tweet_id', \n",
    "               value_vars=['doggo', 'floofer', 'pupper', 'puppo'], var_name='categories')\n",
    "temp = temp[temp['value'] != 'None'].drop(labels='value', axis=1)"
   ]
  },
  {
   "cell_type": "code",
   "execution_count": 1004,
   "metadata": {},
   "outputs": [
    {
     "data": {
      "text/html": [
       "<div>\n",
       "<style scoped>\n",
       "    .dataframe tbody tr th:only-of-type {\n",
       "        vertical-align: middle;\n",
       "    }\n",
       "\n",
       "    .dataframe tbody tr th {\n",
       "        vertical-align: top;\n",
       "    }\n",
       "\n",
       "    .dataframe thead th {\n",
       "        text-align: right;\n",
       "    }\n",
       "</style>\n",
       "<table border=\"1\" class=\"dataframe\">\n",
       "  <thead>\n",
       "    <tr style=\"text-align: right;\">\n",
       "      <th></th>\n",
       "      <th>tweet_id</th>\n",
       "      <th>categories</th>\n",
       "    </tr>\n",
       "  </thead>\n",
       "  <tbody>\n",
       "    <tr>\n",
       "      <th>460</th>\n",
       "      <td>817777686764523521</td>\n",
       "      <td>doggo</td>\n",
       "    </tr>\n",
       "    <tr>\n",
       "      <th>5172</th>\n",
       "      <td>817777686764523521</td>\n",
       "      <td>pupper</td>\n",
       "    </tr>\n",
       "  </tbody>\n",
       "</table>\n",
       "</div>"
      ],
      "text/plain": [
       "                tweet_id categories\n",
       "460   817777686764523521      doggo\n",
       "5172  817777686764523521     pupper"
      ]
     },
     "execution_count": 1004,
     "metadata": {},
     "output_type": "execute_result"
    }
   ],
   "source": [
    "temp[temp['tweet_id'] == '817777686764523521'] # a duplicated id example"
   ]
  },
  {
   "cell_type": "code",
   "execution_count": 1005,
   "metadata": {},
   "outputs": [],
   "source": [
    "originals = temp[~temp['tweet_id'].duplicated()]['tweet_id'] # original id only\n",
    "duplicates = temp[temp['tweet_id'].duplicated()]['tweet_id'] # duplicated id only\n",
    "for i in originals.index:\n",
    "    duplicates_of_item_locs = duplicates[duplicates == originals.loc[i]].index\n",
    "    items_to_add = temp.loc[duplicates_of_item_locs, 'categories']\n",
    "    if items_to_add.size > 0:\n",
    "        temp.loc[i, 'categories'] += ',' + ','.join(items_to_add)\n",
    "temp = temp.drop_duplicates(subset='tweet_id').astype(pd.StringDtype())"
   ]
  },
  {
   "cell_type": "code",
   "execution_count": 1006,
   "metadata": {},
   "outputs": [],
   "source": [
    "drop_lst = ['doggo', 'floofer', 'pupper', 'puppo']\n",
    "archive_copy = archive_copy.merge(right=temp, on='tweet_id', how='left').drop(labels=drop_lst, axis=1)"
   ]
  },
  {
   "cell_type": "markdown",
   "metadata": {},
   "source": [
    "#### Test"
   ]
  },
  {
   "cell_type": "code",
   "execution_count": 1007,
   "metadata": {
    "scrolled": true
   },
   "outputs": [
    {
     "data": {
      "text/plain": [
       "<NA>             1976\n",
       "pupper            245\n",
       "doggo              83\n",
       "puppo              29\n",
       "doggo,pupper       12\n",
       "floofer             9\n",
       "doggo,puppo         1\n",
       "doggo,floofer       1\n",
       "Name: categories, dtype: Int64"
      ]
     },
     "execution_count": 1007,
     "metadata": {},
     "output_type": "execute_result"
    }
   ],
   "source": [
    "archive_copy['categories'].value_counts(dropna=False)"
   ]
  },
  {
   "cell_type": "code",
   "execution_count": 1008,
   "metadata": {
    "scrolled": false
   },
   "outputs": [
    {
     "name": "stdout",
     "output_type": "stream",
     "text": [
      "<class 'pandas.core.frame.DataFrame'>\n",
      "Int64Index: 2356 entries, 0 to 2355\n",
      "Data columns (total 16 columns):\n",
      " #   Column                      Non-Null Count  Dtype              \n",
      "---  ------                      --------------  -----              \n",
      " 0   tweet_id                    2356 non-null   string             \n",
      " 1   in_reply_to_status_id       78 non-null     string             \n",
      " 2   in_reply_to_user_id         78 non-null     string             \n",
      " 3   timestamp                   2356 non-null   datetime64[ns, UTC]\n",
      " 4   source                      2356 non-null   object             \n",
      " 5   text                        2356 non-null   object             \n",
      " 6   retweeted_status_id         181 non-null    string             \n",
      " 7   retweeted_status_user_id    181 non-null    string             \n",
      " 8   retweeted_status_timestamp  181 non-null    datetime64[ns, UTC]\n",
      " 9   expanded_urls               2356 non-null   object             \n",
      " 10  rating_numerator            2356 non-null   int64              \n",
      " 11  rating_denominator          2356 non-null   int64              \n",
      " 12  name                        1556 non-null   object             \n",
      " 13  is_original                 2356 non-null   bool               \n",
      " 14  is_reply                    2356 non-null   bool               \n",
      " 15  categories                  380 non-null    string             \n",
      "dtypes: bool(2), datetime64[ns, UTC](2), int64(2), object(4), string(6)\n",
      "memory usage: 280.7+ KB\n"
     ]
    }
   ],
   "source": [
    "archive_copy.info()"
   ]
  },
  {
   "cell_type": "markdown",
   "metadata": {},
   "source": [
    "### Issue #9: retweeted data columns would be better separated as a standalone dataframe."
   ]
  },
  {
   "cell_type": "markdown",
   "metadata": {},
   "source": [
    "#### Define:"
   ]
  },
  {
   "cell_type": "markdown",
   "metadata": {},
   "source": [
    "- create a DataFrame from these columns\n",
    "- include only retweets(`is_original` False)\n",
    "- drop columns from `archive_copy`."
   ]
  },
  {
   "cell_type": "markdown",
   "metadata": {},
   "source": [
    "#### Code:"
   ]
  },
  {
   "cell_type": "markdown",
   "metadata": {},
   "source": [
    "## NEW `retweet_data` DataFrame:"
   ]
  },
  {
   "cell_type": "code",
   "execution_count": 1009,
   "metadata": {},
   "outputs": [],
   "source": [
    "col_lst = ['tweet_id', 'retweeted_status_id', \n",
    "           'retweeted_status_user_id', 'retweeted_status_timestamp']\n",
    "mask = ~archive_copy['is_original']\n",
    "retweet_data = archive_copy[col_lst][mask].copy() # new dataframe"
   ]
  },
  {
   "cell_type": "code",
   "execution_count": 1010,
   "metadata": {},
   "outputs": [],
   "source": [
    "archive_copy = archive_copy.drop(axis=1, labels=col_lst[1:]) # not dropping id column"
   ]
  },
  {
   "cell_type": "markdown",
   "metadata": {},
   "source": [
    "#### Test:"
   ]
  },
  {
   "cell_type": "code",
   "execution_count": 1011,
   "metadata": {},
   "outputs": [
    {
     "name": "stdout",
     "output_type": "stream",
     "text": [
      "<class 'pandas.core.frame.DataFrame'>\n",
      "Int64Index: 181 entries, 19 to 2260\n",
      "Data columns (total 4 columns):\n",
      " #   Column                      Non-Null Count  Dtype              \n",
      "---  ------                      --------------  -----              \n",
      " 0   tweet_id                    181 non-null    string             \n",
      " 1   retweeted_status_id         181 non-null    string             \n",
      " 2   retweeted_status_user_id    181 non-null    string             \n",
      " 3   retweeted_status_timestamp  181 non-null    datetime64[ns, UTC]\n",
      "dtypes: datetime64[ns, UTC](1), string(3)\n",
      "memory usage: 7.1 KB\n"
     ]
    }
   ],
   "source": [
    "retweet_data.info()"
   ]
  },
  {
   "cell_type": "code",
   "execution_count": 1012,
   "metadata": {
    "scrolled": true
   },
   "outputs": [
    {
     "name": "stdout",
     "output_type": "stream",
     "text": [
      "<class 'pandas.core.frame.DataFrame'>\n",
      "Int64Index: 2356 entries, 0 to 2355\n",
      "Data columns (total 13 columns):\n",
      " #   Column                 Non-Null Count  Dtype              \n",
      "---  ------                 --------------  -----              \n",
      " 0   tweet_id               2356 non-null   string             \n",
      " 1   in_reply_to_status_id  78 non-null     string             \n",
      " 2   in_reply_to_user_id    78 non-null     string             \n",
      " 3   timestamp              2356 non-null   datetime64[ns, UTC]\n",
      " 4   source                 2356 non-null   object             \n",
      " 5   text                   2356 non-null   object             \n",
      " 6   expanded_urls          2356 non-null   object             \n",
      " 7   rating_numerator       2356 non-null   int64              \n",
      " 8   rating_denominator     2356 non-null   int64              \n",
      " 9   name                   1556 non-null   object             \n",
      " 10  is_original            2356 non-null   bool               \n",
      " 11  is_reply               2356 non-null   bool               \n",
      " 12  categories             380 non-null    string             \n",
      "dtypes: bool(2), datetime64[ns, UTC](1), int64(2), object(4), string(4)\n",
      "memory usage: 225.5+ KB\n"
     ]
    }
   ],
   "source": [
    "archive_copy.info()"
   ]
  },
  {
   "cell_type": "markdown",
   "metadata": {},
   "source": [
    "### Issue #10: replies data would be better separated as a standalone dataframe."
   ]
  },
  {
   "cell_type": "markdown",
   "metadata": {},
   "source": [
    "#### Define:\n",
    "- create a DataFrame from these columns\n",
    "- include only replies(`is_reply` true)\n",
    "- drop columns from `archive_copy`."
   ]
  },
  {
   "cell_type": "markdown",
   "metadata": {},
   "source": [
    "#### Code:"
   ]
  },
  {
   "cell_type": "markdown",
   "metadata": {},
   "source": [
    "## NEW `reply_data` DataFrame:"
   ]
  },
  {
   "cell_type": "code",
   "execution_count": 1013,
   "metadata": {},
   "outputs": [],
   "source": [
    "col_lst = ['tweet_id', 'in_reply_to_status_id', 'in_reply_to_user_id']\n",
    "mask = archive_copy['is_reply']\n",
    "reply_data = archive_copy[col_lst][mask].copy()"
   ]
  },
  {
   "cell_type": "code",
   "execution_count": 1014,
   "metadata": {},
   "outputs": [],
   "source": [
    "archive_copy = archive_copy.drop(axis=1, labels=col_lst[1:]) # not dropping id column"
   ]
  },
  {
   "cell_type": "markdown",
   "metadata": {},
   "source": [
    "#### Test:"
   ]
  },
  {
   "cell_type": "code",
   "execution_count": 1015,
   "metadata": {},
   "outputs": [
    {
     "name": "stdout",
     "output_type": "stream",
     "text": [
      "<class 'pandas.core.frame.DataFrame'>\n",
      "Int64Index: 78 entries, 30 to 2298\n",
      "Data columns (total 3 columns):\n",
      " #   Column                 Non-Null Count  Dtype \n",
      "---  ------                 --------------  ----- \n",
      " 0   tweet_id               78 non-null     string\n",
      " 1   in_reply_to_status_id  78 non-null     string\n",
      " 2   in_reply_to_user_id    78 non-null     string\n",
      "dtypes: string(3)\n",
      "memory usage: 2.4 KB\n"
     ]
    }
   ],
   "source": [
    "reply_data.info()"
   ]
  },
  {
   "cell_type": "code",
   "execution_count": 1016,
   "metadata": {},
   "outputs": [
    {
     "name": "stdout",
     "output_type": "stream",
     "text": [
      "<class 'pandas.core.frame.DataFrame'>\n",
      "Int64Index: 2356 entries, 0 to 2355\n",
      "Data columns (total 11 columns):\n",
      " #   Column              Non-Null Count  Dtype              \n",
      "---  ------              --------------  -----              \n",
      " 0   tweet_id            2356 non-null   string             \n",
      " 1   timestamp           2356 non-null   datetime64[ns, UTC]\n",
      " 2   source              2356 non-null   object             \n",
      " 3   text                2356 non-null   object             \n",
      " 4   expanded_urls       2356 non-null   object             \n",
      " 5   rating_numerator    2356 non-null   int64              \n",
      " 6   rating_denominator  2356 non-null   int64              \n",
      " 7   name                1556 non-null   object             \n",
      " 8   is_original         2356 non-null   bool               \n",
      " 9   is_reply            2356 non-null   bool               \n",
      " 10  categories          380 non-null    string             \n",
      "dtypes: bool(2), datetime64[ns, UTC](1), int64(2), object(4), string(2)\n",
      "memory usage: 188.7+ KB\n"
     ]
    }
   ],
   "source": [
    "archive_copy.info()"
   ]
  },
  {
   "cell_type": "markdown",
   "metadata": {},
   "source": [
    "## `tweet_cnts` cleaning:"
   ]
  },
  {
   "cell_type": "markdown",
   "metadata": {},
   "source": [
    "### Issue #11: `tweet_cnts` would be better joined to archive_original, as it consists of general tweets data."
   ]
  },
  {
   "cell_type": "markdown",
   "metadata": {},
   "source": [
    "#### Define:"
   ]
  },
  {
   "cell_type": "markdown",
   "metadata": {},
   "source": [
    "- left join `archive_copy` and `tweet_copy` on id.\n",
    "- drop excess id column."
   ]
  },
  {
   "cell_type": "markdown",
   "metadata": {},
   "source": [
    "#### Code:"
   ]
  },
  {
   "cell_type": "code",
   "execution_count": 1017,
   "metadata": {},
   "outputs": [
    {
     "name": "stdout",
     "output_type": "stream",
     "text": [
      "<class 'pandas.core.frame.DataFrame'>\n",
      "RangeIndex: 2356 entries, 0 to 2355\n",
      "Data columns (total 3 columns):\n",
      " #   Column          Non-Null Count  Dtype  \n",
      "---  ------          --------------  -----  \n",
      " 0   id              2356 non-null   string \n",
      " 1   favorite_count  2326 non-null   float64\n",
      " 2   retweet_count   2326 non-null   float64\n",
      "dtypes: float64(2), string(1)\n",
      "memory usage: 55.3 KB\n"
     ]
    }
   ],
   "source": [
    "tweet_copy.info() # check name of id column"
   ]
  },
  {
   "cell_type": "code",
   "execution_count": 1018,
   "metadata": {},
   "outputs": [],
   "source": [
    "temp = archive_copy.merge(right=tweet_copy, how='left', left_on='tweet_id', right_on='id')\n",
    "archive_copy = temp.drop(axis=1, labels='id')"
   ]
  },
  {
   "cell_type": "markdown",
   "metadata": {},
   "source": [
    "#### Test:"
   ]
  },
  {
   "cell_type": "code",
   "execution_count": 1019,
   "metadata": {},
   "outputs": [
    {
     "name": "stdout",
     "output_type": "stream",
     "text": [
      "<class 'pandas.core.frame.DataFrame'>\n",
      "Int64Index: 2356 entries, 0 to 2355\n",
      "Data columns (total 13 columns):\n",
      " #   Column              Non-Null Count  Dtype              \n",
      "---  ------              --------------  -----              \n",
      " 0   tweet_id            2356 non-null   string             \n",
      " 1   timestamp           2356 non-null   datetime64[ns, UTC]\n",
      " 2   source              2356 non-null   object             \n",
      " 3   text                2356 non-null   object             \n",
      " 4   expanded_urls       2356 non-null   object             \n",
      " 5   rating_numerator    2356 non-null   int64              \n",
      " 6   rating_denominator  2356 non-null   int64              \n",
      " 7   name                1556 non-null   object             \n",
      " 8   is_original         2356 non-null   bool               \n",
      " 9   is_reply            2356 non-null   bool               \n",
      " 10  categories          380 non-null    string             \n",
      " 11  favorite_count      2326 non-null   float64            \n",
      " 12  retweet_count       2326 non-null   float64            \n",
      "dtypes: bool(2), datetime64[ns, UTC](1), float64(2), int64(2), object(4), string(2)\n",
      "memory usage: 225.5+ KB\n"
     ]
    }
   ],
   "source": [
    "archive_copy.info()"
   ]
  },
  {
   "cell_type": "markdown",
   "metadata": {},
   "source": [
    "### Issue #12: count columns should be converted to int to avoid confusion."
   ]
  },
  {
   "cell_type": "markdown",
   "metadata": {},
   "source": [
    "#### Define:"
   ]
  },
  {
   "cell_type": "markdown",
   "metadata": {},
   "source": [
    "- Address the issue in `archive_copy', as it includes the tweet counts dataframe.\n",
    "- convert columns to Pandas' `Int64Dtype`"
   ]
  },
  {
   "cell_type": "markdown",
   "metadata": {},
   "source": [
    "#### Code:"
   ]
  },
  {
   "cell_type": "code",
   "execution_count": 1020,
   "metadata": {},
   "outputs": [],
   "source": [
    "convert_map = {'favorite_count':pd.Int64Dtype(), 'retweet_count': pd.Int64Dtype()}\n",
    "archive_copy = archive_copy.astype(dtype=convert_map)"
   ]
  },
  {
   "cell_type": "markdown",
   "metadata": {},
   "source": [
    "#### Test:"
   ]
  },
  {
   "cell_type": "code",
   "execution_count": 1021,
   "metadata": {
    "scrolled": true
   },
   "outputs": [
    {
     "name": "stdout",
     "output_type": "stream",
     "text": [
      "<class 'pandas.core.frame.DataFrame'>\n",
      "Int64Index: 2356 entries, 0 to 2355\n",
      "Data columns (total 13 columns):\n",
      " #   Column              Non-Null Count  Dtype              \n",
      "---  ------              --------------  -----              \n",
      " 0   tweet_id            2356 non-null   string             \n",
      " 1   timestamp           2356 non-null   datetime64[ns, UTC]\n",
      " 2   source              2356 non-null   object             \n",
      " 3   text                2356 non-null   object             \n",
      " 4   expanded_urls       2356 non-null   object             \n",
      " 5   rating_numerator    2356 non-null   int64              \n",
      " 6   rating_denominator  2356 non-null   int64              \n",
      " 7   name                1556 non-null   object             \n",
      " 8   is_original         2356 non-null   bool               \n",
      " 9   is_reply            2356 non-null   bool               \n",
      " 10  categories          380 non-null    string             \n",
      " 11  favorite_count      2326 non-null   Int64              \n",
      " 12  retweet_count       2326 non-null   Int64              \n",
      "dtypes: Int64(2), bool(2), datetime64[ns, UTC](1), int64(2), object(4), string(2)\n",
      "memory usage: 230.1+ KB\n"
     ]
    }
   ],
   "source": [
    "archive_copy.info()"
   ]
  },
  {
   "cell_type": "markdown",
   "metadata": {},
   "source": [
    "## Bonus"
   ]
  },
  {
   "cell_type": "markdown",
   "metadata": {},
   "source": [
    "### Issue #13 - reindex all columns by priority left to right in archive_copy"
   ]
  },
  {
   "cell_type": "markdown",
   "metadata": {},
   "source": [
    "#### Define:"
   ]
  },
  {
   "cell_type": "markdown",
   "metadata": {},
   "source": [
    "- reorder columns using reindex method."
   ]
  },
  {
   "cell_type": "markdown",
   "metadata": {},
   "source": [
    "#### Code:"
   ]
  },
  {
   "cell_type": "code",
   "execution_count": 1022,
   "metadata": {},
   "outputs": [],
   "source": [
    "top = 'tweet_id', 'is_original', 'is_reply', 'timestamp', 'favorite_count', 'retweet_count'\n",
    "col_lst = [item for item in archive_copy.columns if item not in top]\n",
    "ordered_labels = top + tuple(col_lst)\n",
    "archive_copy = archive_copy.reindex(axis=1, labels=ordered_labels)"
   ]
  },
  {
   "cell_type": "markdown",
   "metadata": {},
   "source": [
    "#### Test:"
   ]
  },
  {
   "cell_type": "code",
   "execution_count": 1023,
   "metadata": {
    "scrolled": true
   },
   "outputs": [
    {
     "name": "stdout",
     "output_type": "stream",
     "text": [
      "<class 'pandas.core.frame.DataFrame'>\n",
      "Int64Index: 2356 entries, 0 to 2355\n",
      "Data columns (total 13 columns):\n",
      " #   Column              Non-Null Count  Dtype              \n",
      "---  ------              --------------  -----              \n",
      " 0   tweet_id            2356 non-null   string             \n",
      " 1   is_original         2356 non-null   bool               \n",
      " 2   is_reply            2356 non-null   bool               \n",
      " 3   timestamp           2356 non-null   datetime64[ns, UTC]\n",
      " 4   favorite_count      2326 non-null   Int64              \n",
      " 5   retweet_count       2326 non-null   Int64              \n",
      " 6   source              2356 non-null   object             \n",
      " 7   text                2356 non-null   object             \n",
      " 8   expanded_urls       2356 non-null   object             \n",
      " 9   rating_numerator    2356 non-null   int64              \n",
      " 10  rating_denominator  2356 non-null   int64              \n",
      " 11  name                1556 non-null   object             \n",
      " 12  categories          380 non-null    string             \n",
      "dtypes: Int64(2), bool(2), datetime64[ns, UTC](1), int64(2), object(4), string(2)\n",
      "memory usage: 230.1+ KB\n"
     ]
    }
   ],
   "source": [
    "archive_copy.info()"
   ]
  },
  {
   "cell_type": "markdown",
   "metadata": {},
   "source": [
    "### Joining into master dataset:"
   ]
  },
  {
   "cell_type": "code",
   "execution_count": 1024,
   "metadata": {},
   "outputs": [],
   "source": [
    "# a df without retweet data\n",
    "master_df = archive_copy.merge(right=img_copy, on='tweet_id', how='left')"
   ]
  },
  {
   "cell_type": "code",
   "execution_count": 1025,
   "metadata": {},
   "outputs": [
    {
     "name": "stdout",
     "output_type": "stream",
     "text": [
      "<class 'pandas.core.frame.DataFrame'>\n",
      "Int64Index: 2356 entries, 0 to 2355\n",
      "Data columns (total 24 columns):\n",
      " #   Column              Non-Null Count  Dtype              \n",
      "---  ------              --------------  -----              \n",
      " 0   tweet_id            2356 non-null   string             \n",
      " 1   is_original         2356 non-null   bool               \n",
      " 2   is_reply            2356 non-null   bool               \n",
      " 3   timestamp           2356 non-null   datetime64[ns, UTC]\n",
      " 4   favorite_count      2326 non-null   Int64              \n",
      " 5   retweet_count       2326 non-null   Int64              \n",
      " 6   source              2356 non-null   object             \n",
      " 7   text                2356 non-null   object             \n",
      " 8   expanded_urls       2356 non-null   object             \n",
      " 9   rating_numerator    2356 non-null   int64              \n",
      " 10  rating_denominator  2356 non-null   int64              \n",
      " 11  name                1556 non-null   object             \n",
      " 12  categories          380 non-null    string             \n",
      " 13  jpg_url             2075 non-null   object             \n",
      " 14  img_num             2075 non-null   float64            \n",
      " 15  p1                  2075 non-null   object             \n",
      " 16  p1_conf             2075 non-null   float64            \n",
      " 17  p1_dog              2075 non-null   object             \n",
      " 18  p2                  2075 non-null   object             \n",
      " 19  p2_conf             2075 non-null   float64            \n",
      " 20  p2_dog              2075 non-null   object             \n",
      " 21  p3                  2075 non-null   object             \n",
      " 22  p3_conf             2075 non-null   float64            \n",
      " 23  p3_dog              2075 non-null   object             \n",
      "dtypes: Int64(2), bool(2), datetime64[ns, UTC](1), float64(4), int64(2), object(11), string(2)\n",
      "memory usage: 432.5+ KB\n"
     ]
    }
   ],
   "source": [
    "master_df.info()"
   ]
  },
  {
   "cell_type": "markdown",
   "metadata": {},
   "source": [
    "### Issue #14 - use accurate dtype for each column in `master_df`"
   ]
  },
  {
   "cell_type": "markdown",
   "metadata": {},
   "source": [
    "#### Define:"
   ]
  },
  {
   "cell_type": "markdown",
   "metadata": {},
   "source": [
    "- Although most column dtypes are accurate, should convert `object` -> `pd.StringDtype`, as well as all p_dog columns to `boolean`."
   ]
  },
  {
   "cell_type": "code",
   "execution_count": 1026,
   "metadata": {},
   "outputs": [],
   "source": [
    "for col in master_df:\n",
    "    if col.endswith('dog'):\n",
    "        master_df[col] = master_df[col].astype(pd.BooleanDtype())\n",
    "    if master_df[col].dtype == 'object':\n",
    "        master_df[col] = master_df[col].astype(pd.StringDtype())"
   ]
  },
  {
   "cell_type": "code",
   "execution_count": 1027,
   "metadata": {},
   "outputs": [
    {
     "name": "stdout",
     "output_type": "stream",
     "text": [
      "<class 'pandas.core.frame.DataFrame'>\n",
      "Int64Index: 2356 entries, 0 to 2355\n",
      "Data columns (total 24 columns):\n",
      " #   Column              Non-Null Count  Dtype              \n",
      "---  ------              --------------  -----              \n",
      " 0   tweet_id            2356 non-null   string             \n",
      " 1   is_original         2356 non-null   bool               \n",
      " 2   is_reply            2356 non-null   bool               \n",
      " 3   timestamp           2356 non-null   datetime64[ns, UTC]\n",
      " 4   favorite_count      2326 non-null   Int64              \n",
      " 5   retweet_count       2326 non-null   Int64              \n",
      " 6   source              2356 non-null   string             \n",
      " 7   text                2356 non-null   string             \n",
      " 8   expanded_urls       2356 non-null   string             \n",
      " 9   rating_numerator    2356 non-null   int64              \n",
      " 10  rating_denominator  2356 non-null   int64              \n",
      " 11  name                1556 non-null   string             \n",
      " 12  categories          380 non-null    string             \n",
      " 13  jpg_url             2075 non-null   string             \n",
      " 14  img_num             2075 non-null   float64            \n",
      " 15  p1                  2075 non-null   string             \n",
      " 16  p1_conf             2075 non-null   float64            \n",
      " 17  p1_dog              2075 non-null   boolean            \n",
      " 18  p2                  2075 non-null   string             \n",
      " 19  p2_conf             2075 non-null   float64            \n",
      " 20  p2_dog              2075 non-null   boolean            \n",
      " 21  p3                  2075 non-null   string             \n",
      " 22  p3_conf             2075 non-null   float64            \n",
      " 23  p3_dog              2075 non-null   boolean            \n",
      "dtypes: Int64(2), bool(2), boolean(3), datetime64[ns, UTC](1), float64(4), int64(2), string(10)\n",
      "memory usage: 391.1 KB\n"
     ]
    }
   ],
   "source": [
    "master_df.info()"
   ]
  },
  {
   "cell_type": "markdown",
   "metadata": {},
   "source": [
    "---\n",
    "## Storing Data\n",
    "Save gathered, assessed, and cleaned master dataset to a CSV file named \"twitter_archive_master.csv\"."
   ]
  },
  {
   "cell_type": "code",
   "execution_count": 1028,
   "metadata": {},
   "outputs": [],
   "source": [
    "master_df.to_csv(\"cleaned_data/twitter_archive_master.csv\", index=False)\n",
    "retweet_data.to_csv(\"cleaned_data/retweet_data.csv\", index=False)\n",
    "reply_data.to_csv(\"cleaned_data/reply_data.csv\", index=False)"
   ]
  },
  {
   "cell_type": "markdown",
   "metadata": {},
   "source": [
    "---\n",
    "## Analyzing and Visualizing Data\n",
    "In this section, analyze and visualize your wrangled data. You must produce at least **three (3) insights and one (1) visualization.**"
   ]
  },
  {
   "cell_type": "markdown",
   "metadata": {},
   "source": [
    "### Question #1 - What is the most common dog breed prediction ?\n",
    "- concatenate all prediction columns\n",
    "- get the top from `.describe()`."
   ]
  },
  {
   "cell_type": "code",
   "execution_count": 1029,
   "metadata": {},
   "outputs": [
    {
     "data": {
      "text/plain": [
       "'golden_retriever'"
      ]
     },
     "execution_count": 1029,
     "metadata": {},
     "output_type": "execute_result"
    }
   ],
   "source": [
    "cols = ['p1', 'p2', 'p3']\n",
    "series_lst = [master_df[col] for col in cols]\n",
    "all_predictions = pd.concat(objs=series_lst)\n",
    "all_predictions.describe()['top']"
   ]
  },
  {
   "cell_type": "markdown",
   "metadata": {},
   "source": [
    "### Question #2 - What is the mean rating numerator ?\n",
    "- calculate `master_df['rating_numerator'].mean()`"
   ]
  },
  {
   "cell_type": "code",
   "execution_count": 1030,
   "metadata": {},
   "outputs": [
    {
     "data": {
      "text/plain": [
       "'13.13'"
      ]
     },
     "execution_count": 1030,
     "metadata": {},
     "output_type": "execute_result"
    }
   ],
   "source": [
    "format(master_df['rating_numerator'].mean(), '.2f')"
   ]
  },
  {
   "cell_type": "markdown",
   "metadata": {},
   "source": [
    "### Question #3 - What is the mean text length for original WeRateDogs tweets?\n",
    "- Include only original tweets: `master_df['text'][master_df['is_original']]`\n",
    "- apply `len` for a new series using `.map()`\n",
    "- get `.mean()`"
   ]
  },
  {
   "cell_type": "code",
   "execution_count": 1031,
   "metadata": {},
   "outputs": [
    {
     "data": {
      "text/plain": [
       "'120.10'"
      ]
     },
     "execution_count": 1031,
     "metadata": {},
     "output_type": "execute_result"
    }
   ],
   "source": [
    "temp = master_df['text'][master_df['is_original']]\n",
    "size_ser = temp.map(len)\n",
    "format(size_ser.mean(), '.2f')"
   ]
  },
  {
   "cell_type": "markdown",
   "metadata": {},
   "source": [
    "### Insights:\n",
    "1. the most common dog breed prediction is <mark>Golden Retriever</mark>.\n",
    "2. the mean rating numerator is <mark>13.13</mark>.\n",
    "3. the mean text length (character count) for original WeRateDogs tweets is <mark>120.1</mark>."
   ]
  },
  {
   "cell_type": "markdown",
   "metadata": {
    "collapsed": true
   },
   "source": [
    "### Visualization"
   ]
  },
  {
   "cell_type": "code",
   "execution_count": 1032,
   "metadata": {},
   "outputs": [],
   "source": [
    "from matplotlib import pyplot as plt\n",
    "%matplotlib widget"
   ]
  },
  {
   "cell_type": "markdown",
   "metadata": {},
   "source": [
    "### Visualization #1: Original tweet count per month(line chart) #NOTE - expand figure\n",
    "- Include only original tweets: `master_df['timestamp'][master_df['is_original']]`\n",
    "- create a series of only \\<month name> \\<year> in string format\n",
    "- use `.value_counts()`\n",
    "- sort the values according to index in datetime format\n",
    "- plot a line chart"
   ]
  },
  {
   "cell_type": "code",
   "execution_count": 1035,
   "metadata": {
    "scrolled": true
   },
   "outputs": [
    {
     "data": {
      "application/vnd.jupyter.widget-view+json": {
       "model_id": "254459198ed64c5ba3dcc4723e580913",
       "version_major": 2,
       "version_minor": 0
      },
      "image/png": "[encoded data removed]",
      "text/html": [
       "\n",
       "            <div style=\"display: inline-block;\">\n",
       "                <div class=\"jupyter-widgets widget-label\" style=\"text-align: center;\">\n",
       "                    Figure\n",
       "                </div>\n",
       "                <img src='data:image/png;base64,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' width=640.0/>\n",
       "            </div>\n",
       "        "
      ],
      "text/plain": [
       "Canvas(toolbar=Toolbar(toolitems=[('Home', 'Reset original view', 'home', 'home'), ('Back', 'Back to previous …"
      ]
     },
     "metadata": {},
     "output_type": "display_data"
    }
   ],
   "source": [
    "temp = master_df['timestamp'][master_df['is_original']]\n",
    "time_ser = pd.Series(data=(temp.dt.month_name().astype('string') + ' ' + temp.dt.year.astype('string')))\n",
    "data = time_ser.value_counts().sort_values(key=lambda item: pd.to_datetime(item.index))\n",
    "fig, ax = plt.subplots()\n",
    "fig.autofmt_xdate()\n",
    "ax.plot(data)\n",
    "ax.set_ylabel('Tweet Count')\n",
    "ax.set_title('Original Tweet Count Over Month')\n",
    "plt.show()"
   ]
  },
  {
   "cell_type": "markdown",
   "metadata": {},
   "source": [
    "### Visualization #2: Distribution of original tweets' favorite count"
   ]
  },
  {
   "cell_type": "markdown",
   "metadata": {},
   "source": [
    "- Include only original tweets: `master_df['favorite_count'][(master_df['is_original']) & (master_df['favorite_count'].notna())]`\n",
    "- plot a histogram for the given series\n",
    "- limit by a certain percentile."
   ]
  },
  {
   "cell_type": "code",
   "execution_count": 1034,
   "metadata": {},
   "outputs": [
    {
     "data": {
      "application/vnd.jupyter.widget-view+json": {
       "model_id": "77ad1e5178e2477a9e8d6165f587e946",
       "version_major": 2,
       "version_minor": 0
      },
      "image/png": "[encoded data removed]",
      "text/html": [
       "\n",
       "            <div style=\"display: inline-block;\">\n",
       "                <div class=\"jupyter-widgets widget-label\" style=\"text-align: center;\">\n",
       "                    Figure\n",
       "                </div>\n",
       "                <img src='data:image/png;base64,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' width=640.0/>\n",
       "            </div>\n",
       "        "
      ],
      "text/plain": [
       "Canvas(toolbar=Toolbar(toolitems=[('Home', 'Reset original view', 'home', 'home'), ('Back', 'Back to previous …"
      ]
     },
     "metadata": {},
     "output_type": "display_data"
    }
   ],
   "source": [
    "temp = master_df['favorite_count'][(master_df['is_original']) & (master_df['favorite_count'].notna())]\n",
    "fig, ax = plt.subplots()\n",
    "ax.hist(x=temp, bins=100)\n",
    "ax.set_title('Distribution Of Original Tweets\\' Favorite Count')\n",
    "ax.set_xlim(left=0, right=temp.quantile(0.975))\n",
    "ax.set_ylabel('Frequency')\n",
    "ax.set_xlabel('Favorite Count')\n",
    "plt.show()"
   ]
  }
 ],
 "metadata": {
  "extensions": {
   "jupyter_dashboards": {
    "activeView": "report_default",
    "version": 1,
    "views": {
     "grid_default": {
      "cellMargin": 10,
      "defaultCellHeight": 20,
      "maxColumns": 12,
      "name": "grid",
      "type": "grid"
     },
     "report_default": {
      "name": "report",
      "type": "report"
     }
    }
   }
  },
  "kernelspec": {
   "display_name": "Python 3 (ipykernel)",
   "language": "python",
   "name": "python3"
  },
  "language_info": {
   "codemirror_mode": {
    "name": "ipython",
    "version": 3
   },
   "file_extension": ".py",
   "mimetype": "text/x-python",
   "name": "python",
   "nbconvert_exporter": "python",
   "pygments_lexer": "ipython3",
   "version": "3.11.1"
  }
 },
 "nbformat": 4,
 "nbformat_minor": 2
}
