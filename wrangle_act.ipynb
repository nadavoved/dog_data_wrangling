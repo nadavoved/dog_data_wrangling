{
 "cells": [
  {
   "cell_type": "markdown",
   "metadata": {
    "extensions": {
     "jupyter_dashboards": {
      "version": 1,
      "views": {
       "grid_default": {
        "col": 0,
        "height": 4,
        "hidden": false,
        "row": 0,
        "width": 4
       },
       "report_default": {
        "hidden": false
       }
      }
     }
    }
   },
   "source": [
    "# Project: Wrangling and Analyze Data\n",
    "___"
   ]
  },
  {
   "cell_type": "markdown",
   "metadata": {},
   "source": [
    "# Data Gathering"
   ]
  },
  {
   "cell_type": "code",
   "execution_count": 71,
   "metadata": {},
   "outputs": [],
   "source": [
    "import pandas as pd"
   ]
  },
  {
   "cell_type": "code",
   "execution_count": 72,
   "metadata": {},
   "outputs": [],
   "source": [
    "import gather # gathering functions module, shift+tab on each function call bellow for more details."
   ]
  },
  {
   "cell_type": "markdown",
   "metadata": {},
   "source": [
    "1. ~Directly download the WeRateDogs Twitter archive data (twitter_archive_enhanced.csv)~\n",
    "___"
   ]
  },
  {
   "cell_type": "markdown",
   "metadata": {},
   "source": [
    "### 2. Use the Requests library to download the tweet image prediction (image_predictions.tsv)"
   ]
  },
  {
   "cell_type": "markdown",
   "metadata": {},
   "source": [
    "`gather.download_file_from_url(url_path='data/link.txt', destination='data/image_predictions.tsv')` **\\*file already exists**"
   ]
  },
  {
   "cell_type": "code",
   "execution_count": 73,
   "metadata": {},
   "outputs": [
    {
     "name": "stdout",
     "output_type": "stream",
     "text": [
      "Help on function download_file_from_url in module gather:\n",
      "\n",
      "download_file_from_url(url_path, destination)\n",
      "    Save File From a given url.\n",
      "    \n",
      "    :param url_path: (str) a path a file containing the url.\n",
      "    :param destination: (str) a path to save the response at.\n",
      "\n"
     ]
    }
   ],
   "source": [
    "help(gather.download_file_from_url) # doc for the above function"
   ]
  },
  {
   "cell_type": "markdown",
   "metadata": {},
   "source": [
    "___"
   ]
  },
  {
   "cell_type": "markdown",
   "metadata": {},
   "source": [
    "### 3. Use the Tweepy library to query additional data via the Twitter API (tweet_json.txt)"
   ]
  },
  {
   "cell_type": "markdown",
   "metadata": {},
   "source": [
    "**Archive data DataFrame:**"
   ]
  },
  {
   "cell_type": "code",
   "execution_count": 74,
   "metadata": {
    "scrolled": true
   },
   "outputs": [
    {
     "name": "stdout",
     "output_type": "stream",
     "text": [
      "<class 'pandas.core.frame.DataFrame'>\n",
      "RangeIndex: 2356 entries, 0 to 2355\n",
      "Data columns (total 17 columns):\n",
      " #   Column                      Non-Null Count  Dtype  \n",
      "---  ------                      --------------  -----  \n",
      " 0   tweet_id                    2356 non-null   string \n",
      " 1   in_reply_to_status_id       78 non-null     float64\n",
      " 2   in_reply_to_user_id         78 non-null     float64\n",
      " 3   timestamp                   2356 non-null   object \n",
      " 4   source                      2356 non-null   object \n",
      " 5   text                        2356 non-null   object \n",
      " 6   retweeted_status_id         181 non-null    float64\n",
      " 7   retweeted_status_user_id    181 non-null    float64\n",
      " 8   retweeted_status_timestamp  181 non-null    object \n",
      " 9   expanded_urls               2297 non-null   object \n",
      " 10  rating_numerator            2356 non-null   int64  \n",
      " 11  rating_denominator          2356 non-null   int64  \n",
      " 12  name                        2356 non-null   object \n",
      " 13  doggo                       2356 non-null   object \n",
      " 14  floofer                     2356 non-null   object \n",
      " 15  pupper                      2356 non-null   object \n",
      " 16  puppo                       2356 non-null   object \n",
      "dtypes: float64(4), int64(2), object(10), string(1)\n",
      "memory usage: 313.0+ KB\n"
     ]
    }
   ],
   "source": [
    "archive_original = pd.read_csv('data/twitter-archive-enhanced.csv', \n",
    "                               dtype={'tweet_id': pd.StringDtype()})\n",
    "dump_lst = archive_original['tweet_id'] # to get list of id's as strings\n",
    "archive_original.info()"
   ]
  },
  {
   "cell_type": "markdown",
   "metadata": {},
   "source": [
    "**Auth object:** # SEE README"
   ]
  },
  {
   "cell_type": "code",
   "execution_count": 75,
   "metadata": {},
   "outputs": [
    {
     "name": "stdout",
     "output_type": "stream",
     "text": [
      "To redownload or add data, please fill your API credentials (*without any spaces*) at the empty auth file at \"data/auth_blank.txt\".\n"
     ]
    }
   ],
   "source": [
    "auth = gather.get_auth(auth_file='data/auth_blank.txt') # get authentication\n",
    "auth_params = [auth.consumer_key, auth.consumer_secret, auth.access_token, auth.access_token_secret]\n",
    "if not all(auth_params):\n",
    "    print('To redownload or add data, please fill your API credentials (*without any spaces*) '\\\n",
    "    'at the empty auth file at \"data/auth_blank.txt\".')"
   ]
  },
  {
   "cell_type": "markdown",
   "metadata": {},
   "source": [
    "**Dump function:**"
   ]
  },
  {
   "cell_type": "markdown",
   "metadata": {},
   "source": [
    "`gather.dump_tweets_data(id_lst=dump_lst, auth=auth)` **\\*takes about 30 min, file already exists.**\n",
    "***NOTICE-loaded to json instead, relevant attributes only (rt and favorite counts):***"
   ]
  },
  {
   "cell_type": "code",
   "execution_count": 76,
   "metadata": {},
   "outputs": [
    {
     "name": "stdout",
     "output_type": "stream",
     "text": [
      "Help on function dump_tweets_data in module gather:\n",
      "\n",
      "dump_tweets_data(id_lst, auth)\n",
      "    Dump tweets' id, retweet count and favorite count into json file.\n",
      "    \n",
      "    :param id_lst: (list[str]) a list containing tweet id's.\n",
      "    :param auth: (tweepy.auth.OAuth1UserHandler) an auth object.\n",
      "\n"
     ]
    }
   ],
   "source": [
    "help(gather.dump_tweets_data) # doc for the above function"
   ]
  },
  {
   "cell_type": "markdown",
   "metadata": {},
   "source": [
    "___\n",
    "### Additional DataFrames creation:"
   ]
  },
  {
   "cell_type": "markdown",
   "metadata": {},
   "source": [
    "**Tweets' counts DataFrame:**"
   ]
  },
  {
   "cell_type": "code",
   "execution_count": 77,
   "metadata": {},
   "outputs": [
    {
     "name": "stdout",
     "output_type": "stream",
     "text": [
      "<class 'pandas.core.frame.DataFrame'>\n",
      "RangeIndex: 2356 entries, 0 to 2355\n",
      "Data columns (total 3 columns):\n",
      " #   Column          Non-Null Count  Dtype  \n",
      "---  ------          --------------  -----  \n",
      " 0   id              2356 non-null   string \n",
      " 1   favorite_count  2326 non-null   float64\n",
      " 2   retweet_count   2326 non-null   float64\n",
      "dtypes: float64(2), string(1)\n",
      "memory usage: 55.3 KB\n"
     ]
    }
   ],
   "source": [
    "tweet_cnts = pd.read_json('data/tweets_data.json', dtype={'id': pd.StringDtype()})\n",
    "tweet_cnts.info()"
   ]
  },
  {
   "cell_type": "markdown",
   "metadata": {},
   "source": [
    "**image predictions DataFrame:** "
   ]
  },
  {
   "cell_type": "code",
   "execution_count": 78,
   "metadata": {},
   "outputs": [
    {
     "name": "stdout",
     "output_type": "stream",
     "text": [
      "<class 'pandas.core.frame.DataFrame'>\n",
      "RangeIndex: 2075 entries, 0 to 2074\n",
      "Data columns (total 12 columns):\n",
      " #   Column    Non-Null Count  Dtype  \n",
      "---  ------    --------------  -----  \n",
      " 0   tweet_id  2075 non-null   string \n",
      " 1   jpg_url   2075 non-null   object \n",
      " 2   img_num   2075 non-null   int64  \n",
      " 3   p1        2075 non-null   object \n",
      " 4   p1_conf   2075 non-null   float64\n",
      " 5   p1_dog    2075 non-null   bool   \n",
      " 6   p2        2075 non-null   object \n",
      " 7   p2_conf   2075 non-null   float64\n",
      " 8   p2_dog    2075 non-null   bool   \n",
      " 9   p3        2075 non-null   object \n",
      " 10  p3_conf   2075 non-null   float64\n",
      " 11  p3_dog    2075 non-null   bool   \n",
      "dtypes: bool(3), float64(3), int64(1), object(4), string(1)\n",
      "memory usage: 152.1+ KB\n"
     ]
    }
   ],
   "source": [
    "img_preds = pd.read_csv('data/image_predictions.tsv', sep='\\t', \n",
    "                        dtype={'tweet_id': pd.StringDtype()})\n",
    "img_preds.info()"
   ]
  },
  {
   "cell_type": "markdown",
   "metadata": {},
   "source": [
    "---"
   ]
  },
  {
   "cell_type": "markdown",
   "metadata": {},
   "source": [
    "# Assessing Data\n",
    "(Each dataframe has been assessed seperately below)"
   ]
  },
  {
   "cell_type": "markdown",
   "metadata": {},
   "source": [
    "# **`archive_original` issues:**\n",
    "### Quality issues\n",
    "- *completeness*\n",
    "    - missing tweet links urls in `expanded_urls` data, even in non empty cells. Detected visually - `archive_original.iloc[313]`, `archive_original.iloc[35]`\n",
    "    - because we would like to clearly see if the relevant id is an original tweet, a boolean column\n",
    "    `is_original` should be included.\n",
    "- *validity* - \n",
    "    - inappropriate data type for columns `in_reply_to_status_id`,                   \n",
    "    `in_reply_to_user_id`, `retweeted_status_id`, `retweeted_status_user_id`: float -> string\n",
    "    - inappropriate data type for columns `timestamp`, `retweeted_status_timestamp`: object -> datetime. both issues detected by using programmatic detection- `archive_original.info()`\n",
    "    - invalid denominators in `rating_denominators`: all should be 10\n",
    "    - duplicated links within the same cell in `expanded_urls`. Detected visually - `archive_original['expanded_urls'].iloc[98]`\n",
    "- *consistency* - \n",
    "    - name 'a' appears 55 times in the `name` column, probably representing unknown names, while there are defined None's in the column. Used visual, then programmatic detection-`archive_original['name'].value_counts()`\n",
    "    \n",
    "### Tidiness issues\n",
    "- the 4 leftmost columns describe the same data, should be melted into one categorical column.\n",
    "- `in_reply_to_status_id`, `in_reply_to_user_id` would be better reindexed to the left, as they consist mostly of NaN's and not really significant to the overall dataset\n",
    "- retweeted data columns would be better seperated as a standalone dataframe."
   ]
  },
  {
   "cell_type": "code",
   "execution_count": 79,
   "metadata": {
    "scrolled": true
   },
   "outputs": [
    {
     "name": "stdout",
     "output_type": "stream",
     "text": [
      "<class 'pandas.core.frame.DataFrame'>\n",
      "RangeIndex: 2356 entries, 0 to 2355\n",
      "Data columns (total 17 columns):\n",
      " #   Column                      Non-Null Count  Dtype  \n",
      "---  ------                      --------------  -----  \n",
      " 0   tweet_id                    2356 non-null   string \n",
      " 1   in_reply_to_status_id       78 non-null     float64\n",
      " 2   in_reply_to_user_id         78 non-null     float64\n",
      " 3   timestamp                   2356 non-null   object \n",
      " 4   source                      2356 non-null   object \n",
      " 5   text                        2356 non-null   object \n",
      " 6   retweeted_status_id         181 non-null    float64\n",
      " 7   retweeted_status_user_id    181 non-null    float64\n",
      " 8   retweeted_status_timestamp  181 non-null    object \n",
      " 9   expanded_urls               2297 non-null   object \n",
      " 10  rating_numerator            2356 non-null   int64  \n",
      " 11  rating_denominator          2356 non-null   int64  \n",
      " 12  name                        2356 non-null   object \n",
      " 13  doggo                       2356 non-null   object \n",
      " 14  floofer                     2356 non-null   object \n",
      " 15  pupper                      2356 non-null   object \n",
      " 16  puppo                       2356 non-null   object \n",
      "dtypes: float64(4), int64(2), object(10), string(1)\n",
      "memory usage: 313.0+ KB\n"
     ]
    }
   ],
   "source": [
    "archive_original.info()"
   ]
  },
  {
   "cell_type": "code",
   "execution_count": 80,
   "metadata": {},
   "outputs": [
    {
     "data": {
      "text/html": [
       "<div>\n",
       "<style scoped>\n",
       "    .dataframe tbody tr th:only-of-type {\n",
       "        vertical-align: middle;\n",
       "    }\n",
       "\n",
       "    .dataframe tbody tr th {\n",
       "        vertical-align: top;\n",
       "    }\n",
       "\n",
       "    .dataframe thead th {\n",
       "        text-align: right;\n",
       "    }\n",
       "</style>\n",
       "<table border=\"1\" class=\"dataframe\">\n",
       "  <thead>\n",
       "    <tr style=\"text-align: right;\">\n",
       "      <th></th>\n",
       "      <th>tweet_id</th>\n",
       "      <th>in_reply_to_status_id</th>\n",
       "      <th>in_reply_to_user_id</th>\n",
       "      <th>timestamp</th>\n",
       "      <th>source</th>\n",
       "      <th>text</th>\n",
       "      <th>retweeted_status_id</th>\n",
       "      <th>retweeted_status_user_id</th>\n",
       "      <th>retweeted_status_timestamp</th>\n",
       "      <th>expanded_urls</th>\n",
       "      <th>rating_numerator</th>\n",
       "      <th>rating_denominator</th>\n",
       "      <th>name</th>\n",
       "      <th>doggo</th>\n",
       "      <th>floofer</th>\n",
       "      <th>pupper</th>\n",
       "      <th>puppo</th>\n",
       "    </tr>\n",
       "  </thead>\n",
       "  <tbody>\n",
       "    <tr>\n",
       "      <th>0</th>\n",
       "      <td>892420643555336193</td>\n",
       "      <td>NaN</td>\n",
       "      <td>NaN</td>\n",
       "      <td>2017-08-01 16:23:56 +0000</td>\n",
       "      <td>&lt;a href=\"http://twitter.com/download/iphone\" r...</td>\n",
       "      <td>This is Phineas. He's a mystical boy. Only eve...</td>\n",
       "      <td>NaN</td>\n",
       "      <td>NaN</td>\n",
       "      <td>NaN</td>\n",
       "      <td>https://twitter.com/dog_rates/status/892420643...</td>\n",
       "      <td>13</td>\n",
       "      <td>10</td>\n",
       "      <td>Phineas</td>\n",
       "      <td>None</td>\n",
       "      <td>None</td>\n",
       "      <td>None</td>\n",
       "      <td>None</td>\n",
       "    </tr>\n",
       "    <tr>\n",
       "      <th>1</th>\n",
       "      <td>892177421306343426</td>\n",
       "      <td>NaN</td>\n",
       "      <td>NaN</td>\n",
       "      <td>2017-08-01 00:17:27 +0000</td>\n",
       "      <td>&lt;a href=\"http://twitter.com/download/iphone\" r...</td>\n",
       "      <td>This is Tilly. She's just checking pup on you....</td>\n",
       "      <td>NaN</td>\n",
       "      <td>NaN</td>\n",
       "      <td>NaN</td>\n",
       "      <td>https://twitter.com/dog_rates/status/892177421...</td>\n",
       "      <td>13</td>\n",
       "      <td>10</td>\n",
       "      <td>Tilly</td>\n",
       "      <td>None</td>\n",
       "      <td>None</td>\n",
       "      <td>None</td>\n",
       "      <td>None</td>\n",
       "    </tr>\n",
       "    <tr>\n",
       "      <th>2</th>\n",
       "      <td>891815181378084864</td>\n",
       "      <td>NaN</td>\n",
       "      <td>NaN</td>\n",
       "      <td>2017-07-31 00:18:03 +0000</td>\n",
       "      <td>&lt;a href=\"http://twitter.com/download/iphone\" r...</td>\n",
       "      <td>This is Archie. He is a rare Norwegian Pouncin...</td>\n",
       "      <td>NaN</td>\n",
       "      <td>NaN</td>\n",
       "      <td>NaN</td>\n",
       "      <td>https://twitter.com/dog_rates/status/891815181...</td>\n",
       "      <td>12</td>\n",
       "      <td>10</td>\n",
       "      <td>Archie</td>\n",
       "      <td>None</td>\n",
       "      <td>None</td>\n",
       "      <td>None</td>\n",
       "      <td>None</td>\n",
       "    </tr>\n",
       "    <tr>\n",
       "      <th>3</th>\n",
       "      <td>891689557279858688</td>\n",
       "      <td>NaN</td>\n",
       "      <td>NaN</td>\n",
       "      <td>2017-07-30 15:58:51 +0000</td>\n",
       "      <td>&lt;a href=\"http://twitter.com/download/iphone\" r...</td>\n",
       "      <td>This is Darla. She commenced a snooze mid meal...</td>\n",
       "      <td>NaN</td>\n",
       "      <td>NaN</td>\n",
       "      <td>NaN</td>\n",
       "      <td>https://twitter.com/dog_rates/status/891689557...</td>\n",
       "      <td>13</td>\n",
       "      <td>10</td>\n",
       "      <td>Darla</td>\n",
       "      <td>None</td>\n",
       "      <td>None</td>\n",
       "      <td>None</td>\n",
       "      <td>None</td>\n",
       "    </tr>\n",
       "    <tr>\n",
       "      <th>4</th>\n",
       "      <td>891327558926688256</td>\n",
       "      <td>NaN</td>\n",
       "      <td>NaN</td>\n",
       "      <td>2017-07-29 16:00:24 +0000</td>\n",
       "      <td>&lt;a href=\"http://twitter.com/download/iphone\" r...</td>\n",
       "      <td>This is Franklin. He would like you to stop ca...</td>\n",
       "      <td>NaN</td>\n",
       "      <td>NaN</td>\n",
       "      <td>NaN</td>\n",
       "      <td>https://twitter.com/dog_rates/status/891327558...</td>\n",
       "      <td>12</td>\n",
       "      <td>10</td>\n",
       "      <td>Franklin</td>\n",
       "      <td>None</td>\n",
       "      <td>None</td>\n",
       "      <td>None</td>\n",
       "      <td>None</td>\n",
       "    </tr>\n",
       "  </tbody>\n",
       "</table>\n",
       "</div>"
      ],
      "text/plain": [
       "             tweet_id  in_reply_to_status_id  in_reply_to_user_id  \\\n",
       "0  892420643555336193                    NaN                  NaN   \n",
       "1  892177421306343426                    NaN                  NaN   \n",
       "2  891815181378084864                    NaN                  NaN   \n",
       "3  891689557279858688                    NaN                  NaN   \n",
       "4  891327558926688256                    NaN                  NaN   \n",
       "\n",
       "                   timestamp  \\\n",
       "0  2017-08-01 16:23:56 +0000   \n",
       "1  2017-08-01 00:17:27 +0000   \n",
       "2  2017-07-31 00:18:03 +0000   \n",
       "3  2017-07-30 15:58:51 +0000   \n",
       "4  2017-07-29 16:00:24 +0000   \n",
       "\n",
       "                                              source  \\\n",
       "0  <a href=\"http://twitter.com/download/iphone\" r...   \n",
       "1  <a href=\"http://twitter.com/download/iphone\" r...   \n",
       "2  <a href=\"http://twitter.com/download/iphone\" r...   \n",
       "3  <a href=\"http://twitter.com/download/iphone\" r...   \n",
       "4  <a href=\"http://twitter.com/download/iphone\" r...   \n",
       "\n",
       "                                                text  retweeted_status_id  \\\n",
       "0  This is Phineas. He's a mystical boy. Only eve...                  NaN   \n",
       "1  This is Tilly. She's just checking pup on you....                  NaN   \n",
       "2  This is Archie. He is a rare Norwegian Pouncin...                  NaN   \n",
       "3  This is Darla. She commenced a snooze mid meal...                  NaN   \n",
       "4  This is Franklin. He would like you to stop ca...                  NaN   \n",
       "\n",
       "   retweeted_status_user_id retweeted_status_timestamp  \\\n",
       "0                       NaN                        NaN   \n",
       "1                       NaN                        NaN   \n",
       "2                       NaN                        NaN   \n",
       "3                       NaN                        NaN   \n",
       "4                       NaN                        NaN   \n",
       "\n",
       "                                       expanded_urls  rating_numerator  \\\n",
       "0  https://twitter.com/dog_rates/status/892420643...                13   \n",
       "1  https://twitter.com/dog_rates/status/892177421...                13   \n",
       "2  https://twitter.com/dog_rates/status/891815181...                12   \n",
       "3  https://twitter.com/dog_rates/status/891689557...                13   \n",
       "4  https://twitter.com/dog_rates/status/891327558...                12   \n",
       "\n",
       "   rating_denominator      name doggo floofer pupper puppo  \n",
       "0                  10   Phineas  None    None   None  None  \n",
       "1                  10     Tilly  None    None   None  None  \n",
       "2                  10    Archie  None    None   None  None  \n",
       "3                  10     Darla  None    None   None  None  \n",
       "4                  10  Franklin  None    None   None  None  "
      ]
     },
     "execution_count": 80,
     "metadata": {},
     "output_type": "execute_result"
    }
   ],
   "source": [
    "archive_original.head()"
   ]
  },
  {
   "cell_type": "markdown",
   "metadata": {},
   "source": [
    "# **`img_preds` issues:**\n",
    "Used both programmatical and visual assessments, did not observe any issues.\n",
    "Also, no multiple records of same id's. One picture for each id.\n",
    "Used programmatic detection: `len(img_copy[img_copy['tweet_id'].duplicated()])`"
   ]
  },
  {
   "cell_type": "code",
   "execution_count": 81,
   "metadata": {},
   "outputs": [
    {
     "name": "stdout",
     "output_type": "stream",
     "text": [
      "<class 'pandas.core.frame.DataFrame'>\n",
      "RangeIndex: 2075 entries, 0 to 2074\n",
      "Data columns (total 12 columns):\n",
      " #   Column    Non-Null Count  Dtype  \n",
      "---  ------    --------------  -----  \n",
      " 0   tweet_id  2075 non-null   string \n",
      " 1   jpg_url   2075 non-null   object \n",
      " 2   img_num   2075 non-null   int64  \n",
      " 3   p1        2075 non-null   object \n",
      " 4   p1_conf   2075 non-null   float64\n",
      " 5   p1_dog    2075 non-null   bool   \n",
      " 6   p2        2075 non-null   object \n",
      " 7   p2_conf   2075 non-null   float64\n",
      " 8   p2_dog    2075 non-null   bool   \n",
      " 9   p3        2075 non-null   object \n",
      " 10  p3_conf   2075 non-null   float64\n",
      " 11  p3_dog    2075 non-null   bool   \n",
      "dtypes: bool(3), float64(3), int64(1), object(4), string(1)\n",
      "memory usage: 152.1+ KB\n"
     ]
    }
   ],
   "source": [
    "img_preds.info()"
   ]
  },
  {
   "cell_type": "code",
   "execution_count": 82,
   "metadata": {},
   "outputs": [
    {
     "data": {
      "text/html": [
       "<div>\n",
       "<style scoped>\n",
       "    .dataframe tbody tr th:only-of-type {\n",
       "        vertical-align: middle;\n",
       "    }\n",
       "\n",
       "    .dataframe tbody tr th {\n",
       "        vertical-align: top;\n",
       "    }\n",
       "\n",
       "    .dataframe thead th {\n",
       "        text-align: right;\n",
       "    }\n",
       "</style>\n",
       "<table border=\"1\" class=\"dataframe\">\n",
       "  <thead>\n",
       "    <tr style=\"text-align: right;\">\n",
       "      <th></th>\n",
       "      <th>tweet_id</th>\n",
       "      <th>jpg_url</th>\n",
       "      <th>img_num</th>\n",
       "      <th>p1</th>\n",
       "      <th>p1_conf</th>\n",
       "      <th>p1_dog</th>\n",
       "      <th>p2</th>\n",
       "      <th>p2_conf</th>\n",
       "      <th>p2_dog</th>\n",
       "      <th>p3</th>\n",
       "      <th>p3_conf</th>\n",
       "      <th>p3_dog</th>\n",
       "    </tr>\n",
       "  </thead>\n",
       "  <tbody>\n",
       "    <tr>\n",
       "      <th>0</th>\n",
       "      <td>666020888022790149</td>\n",
       "      <td>https://pbs.twimg.com/media/CT4udn0WwAA0aMy.jpg</td>\n",
       "      <td>1</td>\n",
       "      <td>Welsh_springer_spaniel</td>\n",
       "      <td>0.465074</td>\n",
       "      <td>True</td>\n",
       "      <td>collie</td>\n",
       "      <td>0.156665</td>\n",
       "      <td>True</td>\n",
       "      <td>Shetland_sheepdog</td>\n",
       "      <td>0.061428</td>\n",
       "      <td>True</td>\n",
       "    </tr>\n",
       "    <tr>\n",
       "      <th>1</th>\n",
       "      <td>666029285002620928</td>\n",
       "      <td>https://pbs.twimg.com/media/CT42GRgUYAA5iDo.jpg</td>\n",
       "      <td>1</td>\n",
       "      <td>redbone</td>\n",
       "      <td>0.506826</td>\n",
       "      <td>True</td>\n",
       "      <td>miniature_pinscher</td>\n",
       "      <td>0.074192</td>\n",
       "      <td>True</td>\n",
       "      <td>Rhodesian_ridgeback</td>\n",
       "      <td>0.072010</td>\n",
       "      <td>True</td>\n",
       "    </tr>\n",
       "    <tr>\n",
       "      <th>2</th>\n",
       "      <td>666033412701032449</td>\n",
       "      <td>https://pbs.twimg.com/media/CT4521TWwAEvMyu.jpg</td>\n",
       "      <td>1</td>\n",
       "      <td>German_shepherd</td>\n",
       "      <td>0.596461</td>\n",
       "      <td>True</td>\n",
       "      <td>malinois</td>\n",
       "      <td>0.138584</td>\n",
       "      <td>True</td>\n",
       "      <td>bloodhound</td>\n",
       "      <td>0.116197</td>\n",
       "      <td>True</td>\n",
       "    </tr>\n",
       "    <tr>\n",
       "      <th>3</th>\n",
       "      <td>666044226329800704</td>\n",
       "      <td>https://pbs.twimg.com/media/CT5Dr8HUEAA-lEu.jpg</td>\n",
       "      <td>1</td>\n",
       "      <td>Rhodesian_ridgeback</td>\n",
       "      <td>0.408143</td>\n",
       "      <td>True</td>\n",
       "      <td>redbone</td>\n",
       "      <td>0.360687</td>\n",
       "      <td>True</td>\n",
       "      <td>miniature_pinscher</td>\n",
       "      <td>0.222752</td>\n",
       "      <td>True</td>\n",
       "    </tr>\n",
       "    <tr>\n",
       "      <th>4</th>\n",
       "      <td>666049248165822465</td>\n",
       "      <td>https://pbs.twimg.com/media/CT5IQmsXIAAKY4A.jpg</td>\n",
       "      <td>1</td>\n",
       "      <td>miniature_pinscher</td>\n",
       "      <td>0.560311</td>\n",
       "      <td>True</td>\n",
       "      <td>Rottweiler</td>\n",
       "      <td>0.243682</td>\n",
       "      <td>True</td>\n",
       "      <td>Doberman</td>\n",
       "      <td>0.154629</td>\n",
       "      <td>True</td>\n",
       "    </tr>\n",
       "  </tbody>\n",
       "</table>\n",
       "</div>"
      ],
      "text/plain": [
       "             tweet_id                                          jpg_url  \\\n",
       "0  666020888022790149  https://pbs.twimg.com/media/CT4udn0WwAA0aMy.jpg   \n",
       "1  666029285002620928  https://pbs.twimg.com/media/CT42GRgUYAA5iDo.jpg   \n",
       "2  666033412701032449  https://pbs.twimg.com/media/CT4521TWwAEvMyu.jpg   \n",
       "3  666044226329800704  https://pbs.twimg.com/media/CT5Dr8HUEAA-lEu.jpg   \n",
       "4  666049248165822465  https://pbs.twimg.com/media/CT5IQmsXIAAKY4A.jpg   \n",
       "\n",
       "   img_num                      p1   p1_conf  p1_dog                  p2  \\\n",
       "0        1  Welsh_springer_spaniel  0.465074    True              collie   \n",
       "1        1                 redbone  0.506826    True  miniature_pinscher   \n",
       "2        1         German_shepherd  0.596461    True            malinois   \n",
       "3        1     Rhodesian_ridgeback  0.408143    True             redbone   \n",
       "4        1      miniature_pinscher  0.560311    True          Rottweiler   \n",
       "\n",
       "    p2_conf  p2_dog                   p3   p3_conf  p3_dog  \n",
       "0  0.156665    True    Shetland_sheepdog  0.061428    True  \n",
       "1  0.074192    True  Rhodesian_ridgeback  0.072010    True  \n",
       "2  0.138584    True           bloodhound  0.116197    True  \n",
       "3  0.360687    True   miniature_pinscher  0.222752    True  \n",
       "4  0.243682    True             Doberman  0.154629    True  "
      ]
     },
     "execution_count": 82,
     "metadata": {},
     "output_type": "execute_result"
    }
   ],
   "source": [
    "img_preds.head()"
   ]
  },
  {
   "cell_type": "markdown",
   "metadata": {},
   "source": [
    "# **`tweet_cnts` issues:**\n",
    "\n",
    "### Tidiness issues\n",
    "- dataframe would be better joined to archive_original, as it consists of general tweets data.\n",
    "\n",
    "### Quality issues\n",
    "- *validity*\n",
    "    - count columns should be converted to int to avoid confusion."
   ]
  },
  {
   "cell_type": "code",
   "execution_count": 83,
   "metadata": {},
   "outputs": [
    {
     "name": "stdout",
     "output_type": "stream",
     "text": [
      "<class 'pandas.core.frame.DataFrame'>\n",
      "RangeIndex: 2356 entries, 0 to 2355\n",
      "Data columns (total 3 columns):\n",
      " #   Column          Non-Null Count  Dtype  \n",
      "---  ------          --------------  -----  \n",
      " 0   id              2356 non-null   string \n",
      " 1   favorite_count  2326 non-null   float64\n",
      " 2   retweet_count   2326 non-null   float64\n",
      "dtypes: float64(2), string(1)\n",
      "memory usage: 55.3 KB\n"
     ]
    }
   ],
   "source": [
    "tweet_cnts.info()"
   ]
  },
  {
   "cell_type": "code",
   "execution_count": 84,
   "metadata": {},
   "outputs": [
    {
     "data": {
      "text/html": [
       "<div>\n",
       "<style scoped>\n",
       "    .dataframe tbody tr th:only-of-type {\n",
       "        vertical-align: middle;\n",
       "    }\n",
       "\n",
       "    .dataframe tbody tr th {\n",
       "        vertical-align: top;\n",
       "    }\n",
       "\n",
       "    .dataframe thead th {\n",
       "        text-align: right;\n",
       "    }\n",
       "</style>\n",
       "<table border=\"1\" class=\"dataframe\">\n",
       "  <thead>\n",
       "    <tr style=\"text-align: right;\">\n",
       "      <th></th>\n",
       "      <th>id</th>\n",
       "      <th>favorite_count</th>\n",
       "      <th>retweet_count</th>\n",
       "    </tr>\n",
       "  </thead>\n",
       "  <tbody>\n",
       "    <tr>\n",
       "      <th>0</th>\n",
       "      <td>892420643555336193</td>\n",
       "      <td>32991.0</td>\n",
       "      <td>6913.0</td>\n",
       "    </tr>\n",
       "    <tr>\n",
       "      <th>1</th>\n",
       "      <td>892177421306343426</td>\n",
       "      <td>28530.0</td>\n",
       "      <td>5208.0</td>\n",
       "    </tr>\n",
       "    <tr>\n",
       "      <th>2</th>\n",
       "      <td>891815181378084864</td>\n",
       "      <td>21448.0</td>\n",
       "      <td>3435.0</td>\n",
       "    </tr>\n",
       "    <tr>\n",
       "      <th>3</th>\n",
       "      <td>891689557279858688</td>\n",
       "      <td>35998.0</td>\n",
       "      <td>7122.0</td>\n",
       "    </tr>\n",
       "    <tr>\n",
       "      <th>4</th>\n",
       "      <td>891327558926688256</td>\n",
       "      <td>34424.0</td>\n",
       "      <td>7644.0</td>\n",
       "    </tr>\n",
       "  </tbody>\n",
       "</table>\n",
       "</div>"
      ],
      "text/plain": [
       "                   id  favorite_count  retweet_count\n",
       "0  892420643555336193         32991.0         6913.0\n",
       "1  892177421306343426         28530.0         5208.0\n",
       "2  891815181378084864         21448.0         3435.0\n",
       "3  891689557279858688         35998.0         7122.0\n",
       "4  891327558926688256         34424.0         7644.0"
      ]
     },
     "execution_count": 84,
     "metadata": {},
     "output_type": "execute_result"
    }
   ],
   "source": [
    "tweet_cnts.head()"
   ]
  },
  {
   "cell_type": "markdown",
   "metadata": {
    "extensions": {
     "jupyter_dashboards": {
      "version": 1,
      "views": {
       "grid_default": {
        "col": 4,
        "height": 4,
        "hidden": false,
        "row": 32,
        "width": 4
       },
       "report_default": {
        "hidden": false
       }
      }
     }
    }
   },
   "source": [
    "___\n",
    "# Cleaning Data"
   ]
  },
  {
   "cell_type": "code",
   "execution_count": 85,
   "metadata": {},
   "outputs": [],
   "source": [
    "# Make copies of original pieces of data\n",
    "archive_copy = archive_original.copy()\n",
    "img_copy = img_preds.copy()\n",
    "tweet_copy = tweet_cnts.copy()"
   ]
  },
  {
   "cell_type": "markdown",
   "metadata": {},
   "source": [
    "## `archive_original` cleaning:"
   ]
  },
  {
   "cell_type": "markdown",
   "metadata": {},
   "source": [
    "### Issue #1: missing `expanded_urls` data."
   ]
  },
  {
   "cell_type": "markdown",
   "metadata": {},
   "source": [
    "#### Define: \n",
    "- concat `tweet_id` to WeRateDogs url prefix where `expanded_urls` is null or tweet url is missing:\n",
    "    - first fill nan\n",
    "    - then check entire column for missing pattern\n",
    "    - finally, append a comma then the pattern to all missing it."
   ]
  },
  {
   "cell_type": "markdown",
   "metadata": {},
   "source": [
    "#### Code"
   ]
  },
  {
   "cell_type": "code",
   "execution_count": 86,
   "metadata": {},
   "outputs": [],
   "source": [
    "val =  'https://twitter.com/dog_rates/status/' + archive_copy['tweet_id']\n",
    "archive_copy['expanded_urls'] = archive_copy['expanded_urls'].fillna(value=val)"
   ]
  },
  {
   "cell_type": "code",
   "execution_count": 87,
   "metadata": {},
   "outputs": [],
   "source": [
    "val = 'https://twitter.com/dog_rates/status/' + archive_copy['tweet_id']\n",
    "archive_copy['expanded_urls'] = archive_copy['expanded_urls'].fillna(value=val)"
   ]
  },
  {
   "cell_type": "code",
   "execution_count": 88,
   "metadata": {},
   "outputs": [],
   "source": [
    "mask = ~archive_copy['expanded_urls'].str.contains(r'https://twitter.com/dog_rates/status/\\d+')\n",
    "missing_locs = archive_copy[mask].index # useful for later testing\n",
    "archive_copy.loc[missing_locs, 'expanded_urls'] += ',' + val"
   ]
  },
  {
   "cell_type": "markdown",
   "metadata": {},
   "source": [
    "#### Test"
   ]
  },
  {
   "cell_type": "code",
   "execution_count": 89,
   "metadata": {
    "scrolled": true
   },
   "outputs": [
    {
     "data": {
      "text/plain": [
       "True"
      ]
     },
     "execution_count": 89,
     "metadata": {},
     "output_type": "execute_result"
    }
   ],
   "source": [
    "all(archive_copy['expanded_urls'].str.contains(r'https://twitter.com/dog_rates/status/\\d+'))"
   ]
  },
  {
   "cell_type": "code",
   "execution_count": 90,
   "metadata": {},
   "outputs": [
    {
     "data": {
      "text/plain": [
       "'https://twitter.com/4bonds2carbon/status/885517367337512960,https://twitter.com/dog_rates/status/885518971528720385'"
      ]
     },
     "execution_count": 90,
     "metadata": {},
     "output_type": "execute_result"
    }
   ],
   "source": [
    "archive_copy.loc[missing_locs, 'expanded_urls'].iloc[0]"
   ]
  },
  {
   "cell_type": "markdown",
   "metadata": {},
   "source": [
    "### Issue #2: because we would like to clearly see if the relevant id is an original tweet, a boolean column is_original should be included."
   ]
  },
  {
   "cell_type": "markdown",
   "metadata": {
    "collapsed": true,
    "extensions": {
     "jupyter_dashboards": {
      "version": 1,
      "views": {
       "grid_default": {
        "hidden": true
       },
       "report_default": {
        "hidden": true
       }
      }
     }
    }
   },
   "source": [
    "#### Define\n",
    "- if `retweeted_status_id` is null, then `is_original` is True, else False."
   ]
  },
  {
   "cell_type": "markdown",
   "metadata": {},
   "source": [
    "#### Code"
   ]
  },
  {
   "cell_type": "code",
   "execution_count": 91,
   "metadata": {},
   "outputs": [],
   "source": [
    "archive_copy['is_original'] = archive_copy['retweeted_status_id'].isna()"
   ]
  },
  {
   "cell_type": "markdown",
   "metadata": {},
   "source": [
    "#### Test"
   ]
  },
  {
   "cell_type": "code",
   "execution_count": 92,
   "metadata": {},
   "outputs": [
    {
     "data": {
      "text/html": [
       "<div>\n",
       "<style scoped>\n",
       "    .dataframe tbody tr th:only-of-type {\n",
       "        vertical-align: middle;\n",
       "    }\n",
       "\n",
       "    .dataframe tbody tr th {\n",
       "        vertical-align: top;\n",
       "    }\n",
       "\n",
       "    .dataframe thead th {\n",
       "        text-align: right;\n",
       "    }\n",
       "</style>\n",
       "<table border=\"1\" class=\"dataframe\">\n",
       "  <thead>\n",
       "    <tr style=\"text-align: right;\">\n",
       "      <th></th>\n",
       "      <th>retweeted_status_id</th>\n",
       "      <th>is_original</th>\n",
       "    </tr>\n",
       "  </thead>\n",
       "  <tbody>\n",
       "    <tr>\n",
       "      <th>19</th>\n",
       "      <td>8.874740e+17</td>\n",
       "      <td>False</td>\n",
       "    </tr>\n",
       "    <tr>\n",
       "      <th>32</th>\n",
       "      <td>8.860537e+17</td>\n",
       "      <td>False</td>\n",
       "    </tr>\n",
       "    <tr>\n",
       "      <th>36</th>\n",
       "      <td>8.305833e+17</td>\n",
       "      <td>False</td>\n",
       "    </tr>\n",
       "    <tr>\n",
       "      <th>68</th>\n",
       "      <td>8.780576e+17</td>\n",
       "      <td>False</td>\n",
       "    </tr>\n",
       "    <tr>\n",
       "      <th>73</th>\n",
       "      <td>8.782815e+17</td>\n",
       "      <td>False</td>\n",
       "    </tr>\n",
       "    <tr>\n",
       "      <th>...</th>\n",
       "      <td>...</td>\n",
       "      <td>...</td>\n",
       "    </tr>\n",
       "    <tr>\n",
       "      <th>1023</th>\n",
       "      <td>6.678667e+17</td>\n",
       "      <td>False</td>\n",
       "    </tr>\n",
       "    <tr>\n",
       "      <th>1043</th>\n",
       "      <td>6.671383e+17</td>\n",
       "      <td>False</td>\n",
       "    </tr>\n",
       "    <tr>\n",
       "      <th>1242</th>\n",
       "      <td>7.119983e+17</td>\n",
       "      <td>False</td>\n",
       "    </tr>\n",
       "    <tr>\n",
       "      <th>2259</th>\n",
       "      <td>6.675487e+17</td>\n",
       "      <td>False</td>\n",
       "    </tr>\n",
       "    <tr>\n",
       "      <th>2260</th>\n",
       "      <td>6.675484e+17</td>\n",
       "      <td>False</td>\n",
       "    </tr>\n",
       "  </tbody>\n",
       "</table>\n",
       "<p>181 rows × 2 columns</p>\n",
       "</div>"
      ],
      "text/plain": [
       "      retweeted_status_id  is_original\n",
       "19           8.874740e+17        False\n",
       "32           8.860537e+17        False\n",
       "36           8.305833e+17        False\n",
       "68           8.780576e+17        False\n",
       "73           8.782815e+17        False\n",
       "...                   ...          ...\n",
       "1023         6.678667e+17        False\n",
       "1043         6.671383e+17        False\n",
       "1242         7.119983e+17        False\n",
       "2259         6.675487e+17        False\n",
       "2260         6.675484e+17        False\n",
       "\n",
       "[181 rows x 2 columns]"
      ]
     },
     "execution_count": 92,
     "metadata": {},
     "output_type": "execute_result"
    }
   ],
   "source": [
    "archive_copy[['retweeted_status_id', 'is_original']][~archive_copy['retweeted_status_id'].isna()]"
   ]
  },
  {
   "cell_type": "markdown",
   "metadata": {},
   "source": [
    "### Issue #3: inappropriate data type for columns in_reply_to_status_id, in_reply_to_user_id, retweeted_status_id, retweeted_status_user_id: float -> string"
   ]
  },
  {
   "cell_type": "markdown",
   "metadata": {
    "collapsed": true,
    "extensions": {
     "jupyter_dashboards": {
      "version": 1,
      "views": {
       "grid_default": {
        "hidden": true
       },
       "report_default": {
        "hidden": true
       }
      }
     }
    }
   },
   "source": [
    "#### Define\n",
    "- iterate over the columns\n",
    "- then, convert the dtype of each one to int in order to disable the scientific notation.\n",
    "- finally, convert the dtype of each one to string."
   ]
  },
  {
   "cell_type": "markdown",
   "metadata": {},
   "source": [
    "#### Code"
   ]
  },
  {
   "cell_type": "code",
   "execution_count": 93,
   "metadata": {},
   "outputs": [],
   "source": [
    "to_convert = ['in_reply_to_status_id', 'in_reply_to_user_id', 'retweeted_status_id', 'retweeted_status_user_id']\n",
    "for col in to_convert:\n",
    "    archive_copy[col] = archive_copy[col].astype(pd.Int64Dtype()).astype(pd.StringDtype())"
   ]
  },
  {
   "cell_type": "markdown",
   "metadata": {},
   "source": [
    "#### Test"
   ]
  },
  {
   "cell_type": "code",
   "execution_count": 94,
   "metadata": {},
   "outputs": [
    {
     "data": {
      "text/plain": [
       "30      886266357075128320\n",
       "55      881607037314052096\n",
       "64      879553827334172672\n",
       "113     870726202742493184\n",
       "148     863425645568774144\n",
       "               ...        \n",
       "2038    671544874165002240\n",
       "2149    669354382627049472\n",
       "2169    667806454573760512\n",
       "2189    668920717132582912\n",
       "2298    667065535570550784\n",
       "Name: in_reply_to_status_id, Length: 78, dtype: string"
      ]
     },
     "execution_count": 94,
     "metadata": {},
     "output_type": "execute_result"
    }
   ],
   "source": [
    "archive_copy['in_reply_to_status_id'][archive_copy['in_reply_to_status_id'].notna()]"
   ]
  },
  {
   "cell_type": "markdown",
   "metadata": {},
   "source": [
    "### Issue #4: inappropriate data type for columns `timestamp`, `retweeted_status_timestamp`: object -> datetime."
   ]
  },
  {
   "cell_type": "markdown",
   "metadata": {},
   "source": [
    "#### Define"
   ]
  },
  {
   "cell_type": "markdown",
   "metadata": {},
   "source": [
    "- convert given columns to datetime using Pandas' `to_datetime` method."
   ]
  },
  {
   "cell_type": "markdown",
   "metadata": {},
   "source": [
    "#### Code"
   ]
  },
  {
   "cell_type": "code",
   "execution_count": 95,
   "metadata": {},
   "outputs": [],
   "source": [
    "to_convert = ['timestamp', 'retweeted_status_timestamp']\n",
    "for col in to_convert:\n",
    "    archive_copy[col] = pd.to_datetime(archive_copy[col])"
   ]
  },
  {
   "cell_type": "markdown",
   "metadata": {},
   "source": [
    "#### Test"
   ]
  },
  {
   "cell_type": "code",
   "execution_count": 96,
   "metadata": {
    "scrolled": false
   },
   "outputs": [
    {
     "name": "stdout",
     "output_type": "stream",
     "text": [
      "<class 'pandas.core.frame.DataFrame'>\n",
      "RangeIndex: 2356 entries, 0 to 2355\n",
      "Data columns (total 2 columns):\n",
      " #   Column                      Non-Null Count  Dtype              \n",
      "---  ------                      --------------  -----              \n",
      " 0   timestamp                   2356 non-null   datetime64[ns, UTC]\n",
      " 1   retweeted_status_timestamp  181 non-null    datetime64[ns, UTC]\n",
      "dtypes: datetime64[ns, UTC](2)\n",
      "memory usage: 36.9 KB\n"
     ]
    }
   ],
   "source": [
    "archive_copy[to_convert].info()"
   ]
  },
  {
   "cell_type": "code",
   "execution_count": 97,
   "metadata": {
    "scrolled": true
   },
   "outputs": [
    {
     "data": {
      "text/html": [
       "<div>\n",
       "<style scoped>\n",
       "    .dataframe tbody tr th:only-of-type {\n",
       "        vertical-align: middle;\n",
       "    }\n",
       "\n",
       "    .dataframe tbody tr th {\n",
       "        vertical-align: top;\n",
       "    }\n",
       "\n",
       "    .dataframe thead th {\n",
       "        text-align: right;\n",
       "    }\n",
       "</style>\n",
       "<table border=\"1\" class=\"dataframe\">\n",
       "  <thead>\n",
       "    <tr style=\"text-align: right;\">\n",
       "      <th></th>\n",
       "      <th>timestamp</th>\n",
       "      <th>retweeted_status_timestamp</th>\n",
       "    </tr>\n",
       "  </thead>\n",
       "  <tbody>\n",
       "    <tr>\n",
       "      <th>0</th>\n",
       "      <td>2017-08-01 16:23:56+00:00</td>\n",
       "      <td>NaT</td>\n",
       "    </tr>\n",
       "    <tr>\n",
       "      <th>1</th>\n",
       "      <td>2017-08-01 00:17:27+00:00</td>\n",
       "      <td>NaT</td>\n",
       "    </tr>\n",
       "    <tr>\n",
       "      <th>2</th>\n",
       "      <td>2017-07-31 00:18:03+00:00</td>\n",
       "      <td>NaT</td>\n",
       "    </tr>\n",
       "    <tr>\n",
       "      <th>3</th>\n",
       "      <td>2017-07-30 15:58:51+00:00</td>\n",
       "      <td>NaT</td>\n",
       "    </tr>\n",
       "    <tr>\n",
       "      <th>4</th>\n",
       "      <td>2017-07-29 16:00:24+00:00</td>\n",
       "      <td>NaT</td>\n",
       "    </tr>\n",
       "    <tr>\n",
       "      <th>...</th>\n",
       "      <td>...</td>\n",
       "      <td>...</td>\n",
       "    </tr>\n",
       "    <tr>\n",
       "      <th>2351</th>\n",
       "      <td>2015-11-16 00:24:50+00:00</td>\n",
       "      <td>NaT</td>\n",
       "    </tr>\n",
       "    <tr>\n",
       "      <th>2352</th>\n",
       "      <td>2015-11-16 00:04:52+00:00</td>\n",
       "      <td>NaT</td>\n",
       "    </tr>\n",
       "    <tr>\n",
       "      <th>2353</th>\n",
       "      <td>2015-11-15 23:21:54+00:00</td>\n",
       "      <td>NaT</td>\n",
       "    </tr>\n",
       "    <tr>\n",
       "      <th>2354</th>\n",
       "      <td>2015-11-15 23:05:30+00:00</td>\n",
       "      <td>NaT</td>\n",
       "    </tr>\n",
       "    <tr>\n",
       "      <th>2355</th>\n",
       "      <td>2015-11-15 22:32:08+00:00</td>\n",
       "      <td>NaT</td>\n",
       "    </tr>\n",
       "  </tbody>\n",
       "</table>\n",
       "<p>2356 rows × 2 columns</p>\n",
       "</div>"
      ],
      "text/plain": [
       "                     timestamp retweeted_status_timestamp\n",
       "0    2017-08-01 16:23:56+00:00                        NaT\n",
       "1    2017-08-01 00:17:27+00:00                        NaT\n",
       "2    2017-07-31 00:18:03+00:00                        NaT\n",
       "3    2017-07-30 15:58:51+00:00                        NaT\n",
       "4    2017-07-29 16:00:24+00:00                        NaT\n",
       "...                        ...                        ...\n",
       "2351 2015-11-16 00:24:50+00:00                        NaT\n",
       "2352 2015-11-16 00:04:52+00:00                        NaT\n",
       "2353 2015-11-15 23:21:54+00:00                        NaT\n",
       "2354 2015-11-15 23:05:30+00:00                        NaT\n",
       "2355 2015-11-15 22:32:08+00:00                        NaT\n",
       "\n",
       "[2356 rows x 2 columns]"
      ]
     },
     "execution_count": 97,
     "metadata": {},
     "output_type": "execute_result"
    }
   ],
   "source": [
    "archive_copy[to_convert]"
   ]
  },
  {
   "cell_type": "markdown",
   "metadata": {},
   "source": [
    "### Issue #5: invalid denominators in `rating_denominators`: all should be 10."
   ]
  },
  {
   "cell_type": "markdown",
   "metadata": {},
   "source": [
    "#### Define"
   ]
  },
  {
   "cell_type": "markdown",
   "metadata": {},
   "source": [
    "- Coerce the integer value `10` on the entire column, using Pandas' `map` function."
   ]
  },
  {
   "cell_type": "markdown",
   "metadata": {},
   "source": [
    "#### Code"
   ]
  },
  {
   "cell_type": "code",
   "execution_count": 98,
   "metadata": {},
   "outputs": [],
   "source": [
    "archive_copy['rating_denominator'] = archive_copy['rating_denominator'].map(lambda item: 10)"
   ]
  },
  {
   "cell_type": "markdown",
   "metadata": {},
   "source": [
    "#### Test"
   ]
  },
  {
   "cell_type": "code",
   "execution_count": 99,
   "metadata": {},
   "outputs": [
    {
     "data": {
      "text/plain": [
       "10    2356\n",
       "Name: rating_denominator, dtype: int64"
      ]
     },
     "execution_count": 99,
     "metadata": {},
     "output_type": "execute_result"
    }
   ],
   "source": [
    "archive_copy['rating_denominator'].value_counts(dropna=False)"
   ]
  },
  {
   "cell_type": "markdown",
   "metadata": {},
   "source": [
    "### Issue #6: duplicated links within the same cell in `expanded_url`."
   ]
  },
  {
   "cell_type": "markdown",
   "metadata": {},
   "source": [
    "#### Define"
   ]
  },
  {
   "cell_type": "markdown",
   "metadata": {},
   "source": [
    "- split strings at `,` to list.\n",
    "- set() on the output.\n",
    "- join the set using `,`\n",
    "- apply to column using Pandas' `map` function."
   ]
  },
  {
   "cell_type": "markdown",
   "metadata": {},
   "source": [
    "#### Code"
   ]
  },
  {
   "cell_type": "code",
   "execution_count": 100,
   "metadata": {},
   "outputs": [
    {
     "data": {
      "text/plain": [
       "'https://www.gofundme.com/help-my-baby-sierra-get-better,https://twitter.com/dog_rates/status/873213775632977920/photo/1,https://twitter.com/dog_rates/status/873213775632977920/photo/1'"
      ]
     },
     "execution_count": 100,
     "metadata": {},
     "output_type": "execute_result"
    }
   ],
   "source": [
    "archive_copy['expanded_urls'].iloc[98] # useful for later testing"
   ]
  },
  {
   "cell_type": "code",
   "execution_count": 101,
   "metadata": {},
   "outputs": [],
   "source": [
    "def unique_url(urls: str):\n",
    "    return ','.join(set(urls.split(',')))"
   ]
  },
  {
   "cell_type": "code",
   "execution_count": 102,
   "metadata": {},
   "outputs": [],
   "source": [
    "archive_copy['expanded_urls'] = archive_copy['expanded_urls'].map(unique_url)"
   ]
  },
  {
   "cell_type": "markdown",
   "metadata": {},
   "source": [
    "#### Test"
   ]
  },
  {
   "cell_type": "code",
   "execution_count": 103,
   "metadata": {
    "scrolled": true
   },
   "outputs": [
    {
     "data": {
      "text/plain": [
       "'https://www.gofundme.com/help-my-baby-sierra-get-better,https://twitter.com/dog_rates/status/873213775632977920/photo/1'"
      ]
     },
     "execution_count": 103,
     "metadata": {},
     "output_type": "execute_result"
    }
   ],
   "source": [
    "archive_copy['expanded_urls'].iloc[98]"
   ]
  },
  {
   "cell_type": "markdown",
   "metadata": {},
   "source": [
    "### Issue #7: name 'a' appears 55 times in the `name` column, probably representing unknown names, while there are defined None's in the column."
   ]
  },
  {
   "cell_type": "markdown",
   "metadata": {},
   "source": [
    "#### Define\n",
    "- check if cell value is 'a' or 'None'\n",
    "- if true, convert to Pandas' `NA`\n",
    "- else, do nothing.\n",
    "- apply to column using Pandas' `map`."
   ]
  },
  {
   "cell_type": "code",
   "execution_count": 104,
   "metadata": {},
   "outputs": [],
   "source": [
    "def nullify(cell: str):\n",
    "    if cell in ('a', 'None'):\n",
    "        return pd.NA\n",
    "    return cell"
   ]
  },
  {
   "cell_type": "markdown",
   "metadata": {},
   "source": [
    "#### Code"
   ]
  },
  {
   "cell_type": "code",
   "execution_count": 105,
   "metadata": {},
   "outputs": [
    {
     "name": "stdout",
     "output_type": "stream",
     "text": [
      "<class 'pandas.core.series.Series'>\n",
      "RangeIndex: 2356 entries, 0 to 2355\n",
      "Series name: name\n",
      "Non-Null Count  Dtype \n",
      "--------------  ----- \n",
      "2356 non-null   object\n",
      "dtypes: object(1)\n",
      "memory usage: 18.5+ KB\n"
     ]
    }
   ],
   "source": [
    "archive_copy['name'].info()"
   ]
  },
  {
   "cell_type": "code",
   "execution_count": 106,
   "metadata": {},
   "outputs": [],
   "source": [
    "def nullify(cell: str):\n",
    "    if cell in ('a', 'None'):\n",
    "        return pd.NA\n",
    "    return cell"
   ]
  },
  {
   "cell_type": "code",
   "execution_count": 107,
   "metadata": {},
   "outputs": [],
   "source": [
    "archive_copy['name'] = archive_copy['name'].map(nullify)"
   ]
  },
  {
   "cell_type": "markdown",
   "metadata": {},
   "source": [
    "#### Test"
   ]
  },
  {
   "cell_type": "code",
   "execution_count": 108,
   "metadata": {},
   "outputs": [
    {
     "data": {
      "text/plain": [
       "<NA>          800\n",
       "Charlie        12\n",
       "Cooper         11\n",
       "Lucy           11\n",
       "Oliver         11\n",
       "             ... \n",
       "Aqua            1\n",
       "Chase           1\n",
       "Meatball        1\n",
       "Rorie           1\n",
       "Christoper      1\n",
       "Name: name, Length: 956, dtype: int64"
      ]
     },
     "execution_count": 108,
     "metadata": {},
     "output_type": "execute_result"
    }
   ],
   "source": [
    "archive_copy['name'].value_counts(dropna=False)"
   ]
  },
  {
   "cell_type": "markdown",
   "metadata": {},
   "source": [
    "### Issue #8: the 4 leftmost columns describe the same data, should be melted into one categorical column."
   ]
  },
  {
   "cell_type": "markdown",
   "metadata": {},
   "source": [
    "#### Define\n",
    "- Use Pandas' `melt` function to melt the columns into a category and value column.\n",
    "- create in a temporary dataframe that consists of only the records which do have a category(not 'None').\n",
    "- drop its excess `value` column\n",
    "- instead of simply removing duplicated id's, format the categories column in the temporary dataframe to include multiple categories for each id, as each tweet can validly contain multiple categories.\n",
    "- convert temp to dtype string for proper nullable data type on left join.\n",
    "- ***NOTE - AS records may have some combination of categories, a string dtype instead would be more approppriate.***\n",
    "- left join `archive_copy` with temp on `tweet_id`\n",
    "- drop the old category columns from `archive_copy`\n"
   ]
  },
  {
   "cell_type": "markdown",
   "metadata": {},
   "source": [
    "#### Code"
   ]
  },
  {
   "cell_type": "code",
   "execution_count": 109,
   "metadata": {},
   "outputs": [],
   "source": [
    "temp = pd.melt(archive_copy, id_vars='tweet_id', \n",
    "               value_vars=['doggo', 'floofer', 'pupper', 'puppo'], var_name='categories')\n",
    "temp = temp[temp['value'] != 'None'].drop(labels='value', axis=1)"
   ]
  },
  {
   "cell_type": "code",
   "execution_count": 110,
   "metadata": {},
   "outputs": [
    {
     "data": {
      "text/html": [
       "<div>\n",
       "<style scoped>\n",
       "    .dataframe tbody tr th:only-of-type {\n",
       "        vertical-align: middle;\n",
       "    }\n",
       "\n",
       "    .dataframe tbody tr th {\n",
       "        vertical-align: top;\n",
       "    }\n",
       "\n",
       "    .dataframe thead th {\n",
       "        text-align: right;\n",
       "    }\n",
       "</style>\n",
       "<table border=\"1\" class=\"dataframe\">\n",
       "  <thead>\n",
       "    <tr style=\"text-align: right;\">\n",
       "      <th></th>\n",
       "      <th>tweet_id</th>\n",
       "      <th>categories</th>\n",
       "    </tr>\n",
       "  </thead>\n",
       "  <tbody>\n",
       "    <tr>\n",
       "      <th>460</th>\n",
       "      <td>817777686764523521</td>\n",
       "      <td>doggo</td>\n",
       "    </tr>\n",
       "    <tr>\n",
       "      <th>5172</th>\n",
       "      <td>817777686764523521</td>\n",
       "      <td>pupper</td>\n",
       "    </tr>\n",
       "  </tbody>\n",
       "</table>\n",
       "</div>"
      ],
      "text/plain": [
       "                tweet_id categories\n",
       "460   817777686764523521      doggo\n",
       "5172  817777686764523521     pupper"
      ]
     },
     "execution_count": 110,
     "metadata": {},
     "output_type": "execute_result"
    }
   ],
   "source": [
    "temp[temp['tweet_id'] == '817777686764523521'] # a duplicated id example"
   ]
  },
  {
   "cell_type": "code",
   "execution_count": 111,
   "metadata": {},
   "outputs": [],
   "source": [
    "originals = temp[~temp['tweet_id'].duplicated()]['tweet_id'] # original id only\n",
    "duplicates = temp[temp['tweet_id'].duplicated()]['tweet_id'] # duplicated id only\n",
    "for i in originals.index:\n",
    "    duplicates_of_item_locs = duplicates[duplicates == originals.loc[i]].index\n",
    "    items_to_add = temp.loc[duplicates_of_item_locs, 'categories']\n",
    "    if items_to_add.size > 0:\n",
    "        temp.loc[i, 'categories'] += ',' + ','.join(items_to_add)\n",
    "temp = temp.drop_duplicates(subset='tweet_id').astype(pd.StringDtype())"
   ]
  },
  {
   "cell_type": "code",
   "execution_count": 112,
   "metadata": {},
   "outputs": [],
   "source": [
    "drop_lst = ['doggo', 'floofer', 'pupper', 'puppo']\n",
    "archive_copy = archive_copy.merge(right=temp, on='tweet_id', how='left').drop(labels=drop_lst, axis=1)"
   ]
  },
  {
   "cell_type": "markdown",
   "metadata": {},
   "source": [
    "#### Test"
   ]
  },
  {
   "cell_type": "code",
   "execution_count": 113,
   "metadata": {
    "scrolled": true
   },
   "outputs": [
    {
     "data": {
      "text/plain": [
       "<NA>             1976\n",
       "pupper            245\n",
       "doggo              83\n",
       "puppo              29\n",
       "doggo,pupper       12\n",
       "floofer             9\n",
       "doggo,puppo         1\n",
       "doggo,floofer       1\n",
       "Name: categories, dtype: Int64"
      ]
     },
     "execution_count": 113,
     "metadata": {},
     "output_type": "execute_result"
    }
   ],
   "source": [
    "archive_copy['categories'].value_counts(dropna=False)"
   ]
  },
  {
   "cell_type": "code",
   "execution_count": 114,
   "metadata": {
    "scrolled": true
   },
   "outputs": [
    {
     "name": "stdout",
     "output_type": "stream",
     "text": [
      "<class 'pandas.core.frame.DataFrame'>\n",
      "Int64Index: 2356 entries, 0 to 2355\n",
      "Data columns (total 15 columns):\n",
      " #   Column                      Non-Null Count  Dtype              \n",
      "---  ------                      --------------  -----              \n",
      " 0   tweet_id                    2356 non-null   string             \n",
      " 1   in_reply_to_status_id       78 non-null     string             \n",
      " 2   in_reply_to_user_id         78 non-null     string             \n",
      " 3   timestamp                   2356 non-null   datetime64[ns, UTC]\n",
      " 4   source                      2356 non-null   object             \n",
      " 5   text                        2356 non-null   object             \n",
      " 6   retweeted_status_id         181 non-null    string             \n",
      " 7   retweeted_status_user_id    181 non-null    string             \n",
      " 8   retweeted_status_timestamp  181 non-null    datetime64[ns, UTC]\n",
      " 9   expanded_urls               2356 non-null   object             \n",
      " 10  rating_numerator            2356 non-null   int64              \n",
      " 11  rating_denominator          2356 non-null   int64              \n",
      " 12  name                        1556 non-null   object             \n",
      " 13  is_original                 2356 non-null   bool               \n",
      " 14  categories                  380 non-null    string             \n",
      "dtypes: bool(1), datetime64[ns, UTC](2), int64(2), object(4), string(6)\n",
      "memory usage: 278.4+ KB\n"
     ]
    }
   ],
   "source": [
    "archive_copy.info()"
   ]
  },
  {
   "cell_type": "markdown",
   "metadata": {},
   "source": [
    "### Issue #9: `in_reply_to_status_id`, `in_reply_to_user_id` would be better reindexed to the left, as they consist mostly of NaN's and not really significant to the overall dataset (NOTE - ISSUE REOPENED BELOW)"
   ]
  },
  {
   "cell_type": "markdown",
   "metadata": {},
   "source": [
    "#### Define:"
   ]
  },
  {
   "cell_type": "markdown",
   "metadata": {},
   "source": [
    "- **NOTE:** This issue should be taken care of later, as more dataframes may be joined.\n",
    "- Then, prioritize the entire set of columns from left to right."
   ]
  },
  {
   "cell_type": "markdown",
   "metadata": {},
   "source": [
    "### Issue #10: retweeted data columns would be better separated as a standalone dataframe."
   ]
  },
  {
   "cell_type": "markdown",
   "metadata": {},
   "source": [
    "#### Define:"
   ]
  },
  {
   "cell_type": "markdown",
   "metadata": {},
   "source": [
    "- create a DataFrame from these columns\n",
    "- include only retweets(`is_original` False)\n",
    "- drop columns from `archive_copy`."
   ]
  },
  {
   "cell_type": "markdown",
   "metadata": {},
   "source": [
    "#### Code:"
   ]
  },
  {
   "cell_type": "markdown",
   "metadata": {},
   "source": [
    "## NEW `retweet_data` DataFrame:"
   ]
  },
  {
   "cell_type": "code",
   "execution_count": 115,
   "metadata": {},
   "outputs": [],
   "source": [
    "col_lst = ['tweet_id', 'retweeted_status_id', \n",
    "           'retweeted_status_user_id', 'retweeted_status_timestamp']\n",
    "mask = ~archive_copy['is_original']\n",
    "retweet_data = archive_copy[col_lst][mask].copy() # new dataframe"
   ]
  },
  {
   "cell_type": "code",
   "execution_count": 116,
   "metadata": {},
   "outputs": [],
   "source": [
    "archive_copy = archive_copy.drop(axis=1, labels=col_lst[1:]) # not dropping id column"
   ]
  },
  {
   "cell_type": "markdown",
   "metadata": {},
   "source": [
    "#### Test:"
   ]
  },
  {
   "cell_type": "code",
   "execution_count": 117,
   "metadata": {},
   "outputs": [
    {
     "name": "stdout",
     "output_type": "stream",
     "text": [
      "<class 'pandas.core.frame.DataFrame'>\n",
      "Int64Index: 181 entries, 19 to 2260\n",
      "Data columns (total 4 columns):\n",
      " #   Column                      Non-Null Count  Dtype              \n",
      "---  ------                      --------------  -----              \n",
      " 0   tweet_id                    181 non-null    string             \n",
      " 1   retweeted_status_id         181 non-null    string             \n",
      " 2   retweeted_status_user_id    181 non-null    string             \n",
      " 3   retweeted_status_timestamp  181 non-null    datetime64[ns, UTC]\n",
      "dtypes: datetime64[ns, UTC](1), string(3)\n",
      "memory usage: 7.1 KB\n"
     ]
    }
   ],
   "source": [
    "retweet_data.info()"
   ]
  },
  {
   "cell_type": "code",
   "execution_count": 118,
   "metadata": {
    "scrolled": true
   },
   "outputs": [
    {
     "name": "stdout",
     "output_type": "stream",
     "text": [
      "<class 'pandas.core.frame.DataFrame'>\n",
      "Int64Index: 2356 entries, 0 to 2355\n",
      "Data columns (total 12 columns):\n",
      " #   Column                 Non-Null Count  Dtype              \n",
      "---  ------                 --------------  -----              \n",
      " 0   tweet_id               2356 non-null   string             \n",
      " 1   in_reply_to_status_id  78 non-null     string             \n",
      " 2   in_reply_to_user_id    78 non-null     string             \n",
      " 3   timestamp              2356 non-null   datetime64[ns, UTC]\n",
      " 4   source                 2356 non-null   object             \n",
      " 5   text                   2356 non-null   object             \n",
      " 6   expanded_urls          2356 non-null   object             \n",
      " 7   rating_numerator       2356 non-null   int64              \n",
      " 8   rating_denominator     2356 non-null   int64              \n",
      " 9   name                   1556 non-null   object             \n",
      " 10  is_original            2356 non-null   bool               \n",
      " 11  categories             380 non-null    string             \n",
      "dtypes: bool(1), datetime64[ns, UTC](1), int64(2), object(4), string(4)\n",
      "memory usage: 223.2+ KB\n"
     ]
    }
   ],
   "source": [
    "archive_copy.info()"
   ]
  },
  {
   "cell_type": "markdown",
   "metadata": {},
   "source": [
    "## `tweet_cnts` cleaning:"
   ]
  },
  {
   "cell_type": "markdown",
   "metadata": {},
   "source": [
    "### Issue #11: `tweet_cnts` would be better joined to archive_original, as it consists of general tweets data."
   ]
  },
  {
   "cell_type": "markdown",
   "metadata": {},
   "source": [
    "#### Define:"
   ]
  },
  {
   "cell_type": "markdown",
   "metadata": {},
   "source": [
    "- left join `archive_copy` and `tweet_copy` on id.\n",
    "- drop excess id column."
   ]
  },
  {
   "cell_type": "markdown",
   "metadata": {},
   "source": [
    "#### Code:"
   ]
  },
  {
   "cell_type": "code",
   "execution_count": 119,
   "metadata": {},
   "outputs": [
    {
     "name": "stdout",
     "output_type": "stream",
     "text": [
      "<class 'pandas.core.frame.DataFrame'>\n",
      "RangeIndex: 2356 entries, 0 to 2355\n",
      "Data columns (total 3 columns):\n",
      " #   Column          Non-Null Count  Dtype  \n",
      "---  ------          --------------  -----  \n",
      " 0   id              2356 non-null   string \n",
      " 1   favorite_count  2326 non-null   float64\n",
      " 2   retweet_count   2326 non-null   float64\n",
      "dtypes: float64(2), string(1)\n",
      "memory usage: 55.3 KB\n"
     ]
    }
   ],
   "source": [
    "tweet_copy.info() # check name of id column"
   ]
  },
  {
   "cell_type": "code",
   "execution_count": 120,
   "metadata": {},
   "outputs": [],
   "source": [
    "temp = archive_copy.merge(right=tweet_copy, how='left', left_on='tweet_id', right_on='id')\n",
    "archive_copy = temp.drop(axis=1, labels='id')"
   ]
  },
  {
   "cell_type": "markdown",
   "metadata": {},
   "source": [
    "#### Test:"
   ]
  },
  {
   "cell_type": "code",
   "execution_count": 121,
   "metadata": {},
   "outputs": [
    {
     "name": "stdout",
     "output_type": "stream",
     "text": [
      "<class 'pandas.core.frame.DataFrame'>\n",
      "Int64Index: 2356 entries, 0 to 2355\n",
      "Data columns (total 14 columns):\n",
      " #   Column                 Non-Null Count  Dtype              \n",
      "---  ------                 --------------  -----              \n",
      " 0   tweet_id               2356 non-null   string             \n",
      " 1   in_reply_to_status_id  78 non-null     string             \n",
      " 2   in_reply_to_user_id    78 non-null     string             \n",
      " 3   timestamp              2356 non-null   datetime64[ns, UTC]\n",
      " 4   source                 2356 non-null   object             \n",
      " 5   text                   2356 non-null   object             \n",
      " 6   expanded_urls          2356 non-null   object             \n",
      " 7   rating_numerator       2356 non-null   int64              \n",
      " 8   rating_denominator     2356 non-null   int64              \n",
      " 9   name                   1556 non-null   object             \n",
      " 10  is_original            2356 non-null   bool               \n",
      " 11  categories             380 non-null    string             \n",
      " 12  favorite_count         2326 non-null   float64            \n",
      " 13  retweet_count          2326 non-null   float64            \n",
      "dtypes: bool(1), datetime64[ns, UTC](1), float64(2), int64(2), object(4), string(4)\n",
      "memory usage: 260.0+ KB\n"
     ]
    }
   ],
   "source": [
    "archive_copy.info()"
   ]
  },
  {
   "cell_type": "markdown",
   "metadata": {},
   "source": [
    "### Issue #12: count columns should be converted to int to avoid confusion."
   ]
  },
  {
   "cell_type": "markdown",
   "metadata": {},
   "source": [
    "#### Define:"
   ]
  },
  {
   "cell_type": "markdown",
   "metadata": {},
   "source": [
    "- Address the issue in `archive_copy', as it includes the tweet counts dataframe.\n",
    "- convert columns to Pandas' `Int64Dtype`"
   ]
  },
  {
   "cell_type": "markdown",
   "metadata": {},
   "source": [
    "#### Code:"
   ]
  },
  {
   "cell_type": "code",
   "execution_count": 122,
   "metadata": {},
   "outputs": [],
   "source": [
    "convert_map = {'favorite_count':pd.Int64Dtype(), 'retweet_count': pd.Int64Dtype()}\n",
    "archive_copy = archive_copy.astype(dtype=convert_map)"
   ]
  },
  {
   "cell_type": "markdown",
   "metadata": {},
   "source": [
    "#### Test:"
   ]
  },
  {
   "cell_type": "code",
   "execution_count": 123,
   "metadata": {
    "scrolled": true
   },
   "outputs": [
    {
     "name": "stdout",
     "output_type": "stream",
     "text": [
      "<class 'pandas.core.frame.DataFrame'>\n",
      "Int64Index: 2356 entries, 0 to 2355\n",
      "Data columns (total 14 columns):\n",
      " #   Column                 Non-Null Count  Dtype              \n",
      "---  ------                 --------------  -----              \n",
      " 0   tweet_id               2356 non-null   string             \n",
      " 1   in_reply_to_status_id  78 non-null     string             \n",
      " 2   in_reply_to_user_id    78 non-null     string             \n",
      " 3   timestamp              2356 non-null   datetime64[ns, UTC]\n",
      " 4   source                 2356 non-null   object             \n",
      " 5   text                   2356 non-null   object             \n",
      " 6   expanded_urls          2356 non-null   object             \n",
      " 7   rating_numerator       2356 non-null   int64              \n",
      " 8   rating_denominator     2356 non-null   int64              \n",
      " 9   name                   1556 non-null   object             \n",
      " 10  is_original            2356 non-null   bool               \n",
      " 11  categories             380 non-null    string             \n",
      " 12  favorite_count         2326 non-null   Int64              \n",
      " 13  retweet_count          2326 non-null   Int64              \n",
      "dtypes: Int64(2), bool(1), datetime64[ns, UTC](1), int64(2), object(4), string(4)\n",
      "memory usage: 264.6+ KB\n"
     ]
    }
   ],
   "source": [
    "archive_copy.info()"
   ]
  },
  {
   "cell_type": "markdown",
   "metadata": {},
   "source": [
    "## Bonus"
   ]
  },
  {
   "cell_type": "markdown",
   "metadata": {},
   "source": [
    "## REVISITED - Issue #9 - reindex all columns by priority left to right."
   ]
  },
  {
   "cell_type": "markdown",
   "metadata": {},
   "source": [
    "#### Define:"
   ]
  },
  {
   "cell_type": "markdown",
   "metadata": {},
   "source": [
    "- reorder columns using reindex method."
   ]
  },
  {
   "cell_type": "markdown",
   "metadata": {},
   "source": [
    "#### Code:"
   ]
  },
  {
   "cell_type": "code",
   "execution_count": 124,
   "metadata": {},
   "outputs": [],
   "source": [
    "top = 'tweet_id', 'is_original', 'timestamp', 'favorite_count', 'retweet_count'\n",
    "bottom = 'in_reply_to_status_id', 'in_reply_to_user_id'\n",
    "col_lst = [item for item in archive_copy.columns if item not in bottom and item not in top]\n",
    "ordered_labels = top + tuple(col_lst) + bottom\n",
    "archive_copy = archive_copy.reindex(axis=1, labels=ordered_labels)"
   ]
  },
  {
   "cell_type": "markdown",
   "metadata": {},
   "source": [
    "#### Test:"
   ]
  },
  {
   "cell_type": "code",
   "execution_count": 125,
   "metadata": {
    "scrolled": true
   },
   "outputs": [
    {
     "name": "stdout",
     "output_type": "stream",
     "text": [
      "<class 'pandas.core.frame.DataFrame'>\n",
      "Int64Index: 2356 entries, 0 to 2355\n",
      "Data columns (total 14 columns):\n",
      " #   Column                 Non-Null Count  Dtype              \n",
      "---  ------                 --------------  -----              \n",
      " 0   tweet_id               2356 non-null   string             \n",
      " 1   is_original            2356 non-null   bool               \n",
      " 2   timestamp              2356 non-null   datetime64[ns, UTC]\n",
      " 3   favorite_count         2326 non-null   Int64              \n",
      " 4   retweet_count          2326 non-null   Int64              \n",
      " 5   source                 2356 non-null   object             \n",
      " 6   text                   2356 non-null   object             \n",
      " 7   expanded_urls          2356 non-null   object             \n",
      " 8   rating_numerator       2356 non-null   int64              \n",
      " 9   rating_denominator     2356 non-null   int64              \n",
      " 10  name                   1556 non-null   object             \n",
      " 11  categories             380 non-null    string             \n",
      " 12  in_reply_to_status_id  78 non-null     string             \n",
      " 13  in_reply_to_user_id    78 non-null     string             \n",
      "dtypes: Int64(2), bool(1), datetime64[ns, UTC](1), int64(2), object(4), string(4)\n",
      "memory usage: 264.6+ KB\n"
     ]
    }
   ],
   "source": [
    "archive_copy.info()"
   ]
  },
  {
   "cell_type": "markdown",
   "metadata": {},
   "source": [
    "---\n",
    "## Storing Data\n",
    "Save gathered, assessed, and cleaned master dataset to a CSV file named \"twitter_archive_master.csv\"."
   ]
  },
  {
   "cell_type": "markdown",
   "metadata": {},
   "source": [
    "### Joining into master dataset:"
   ]
  },
  {
   "cell_type": "code",
   "execution_count": 126,
   "metadata": {},
   "outputs": [],
   "source": [
    "# a df without retweet data\n",
    "master_df = archive_copy.merge(right=img_copy, on='tweet_id', how='left')"
   ]
  },
  {
   "cell_type": "markdown",
   "metadata": {},
   "source": [
    "### Bonus Issue #13 - use accurate type for each column"
   ]
  },
  {
   "cell_type": "markdown",
   "metadata": {},
   "source": [
    "#### Define:"
   ]
  },
  {
   "cell_type": "markdown",
   "metadata": {},
   "source": [
    "- Although most column dtypes are accurate, should convert `object` -> `pd.StringDtype`."
   ]
  },
  {
   "cell_type": "code",
   "execution_count": 127,
   "metadata": {},
   "outputs": [],
   "source": [
    "for col in master_df:\n",
    "    if master_df[col].dtype == 'object':\n",
    "        master_df[col] = master_df[col].astype(pd.StringDtype())"
   ]
  },
  {
   "cell_type": "code",
   "execution_count": 128,
   "metadata": {},
   "outputs": [
    {
     "name": "stdout",
     "output_type": "stream",
     "text": [
      "<class 'pandas.core.frame.DataFrame'>\n",
      "Int64Index: 2356 entries, 0 to 2355\n",
      "Data columns (total 25 columns):\n",
      " #   Column                 Non-Null Count  Dtype              \n",
      "---  ------                 --------------  -----              \n",
      " 0   tweet_id               2356 non-null   string             \n",
      " 1   is_original            2356 non-null   bool               \n",
      " 2   timestamp              2356 non-null   datetime64[ns, UTC]\n",
      " 3   favorite_count         2326 non-null   Int64              \n",
      " 4   retweet_count          2326 non-null   Int64              \n",
      " 5   source                 2356 non-null   string             \n",
      " 6   text                   2356 non-null   string             \n",
      " 7   expanded_urls          2356 non-null   string             \n",
      " 8   rating_numerator       2356 non-null   int64              \n",
      " 9   rating_denominator     2356 non-null   int64              \n",
      " 10  name                   1556 non-null   string             \n",
      " 11  categories             380 non-null    string             \n",
      " 12  in_reply_to_status_id  78 non-null     string             \n",
      " 13  in_reply_to_user_id    78 non-null     string             \n",
      " 14  jpg_url                2075 non-null   string             \n",
      " 15  img_num                2075 non-null   float64            \n",
      " 16  p1                     2075 non-null   string             \n",
      " 17  p1_conf                2075 non-null   float64            \n",
      " 18  p1_dog                 2075 non-null   string             \n",
      " 19  p2                     2075 non-null   string             \n",
      " 20  p2_conf                2075 non-null   float64            \n",
      " 21  p2_dog                 2075 non-null   string             \n",
      " 22  p3                     2075 non-null   string             \n",
      " 23  p3_conf                2075 non-null   float64            \n",
      " 24  p3_dog                 2075 non-null   string             \n",
      "dtypes: Int64(2), bool(1), datetime64[ns, UTC](1), float64(4), int64(2), string(15)\n",
      "memory usage: 467.1 KB\n"
     ]
    }
   ],
   "source": [
    "master_df.info()"
   ]
  },
  {
   "cell_type": "markdown",
   "metadata": {},
   "source": [
    "## Finally, storing into:"
   ]
  },
  {
   "cell_type": "code",
   "execution_count": 129,
   "metadata": {},
   "outputs": [],
   "source": [
    "master_df.to_csv(\"cleaned_data/twitter_archive_master.csv\", index=False)\n",
    "retweet_data.to_csv(\"cleaned_data/retweet_data.csv\", index=False)"
   ]
  },
  {
   "cell_type": "markdown",
   "metadata": {},
   "source": [
    "---\n",
    "## Analyzing and Visualizing Data\n",
    "In this section, analyze and visualize your wrangled data. You must produce at least **three (3) insights and one (1) visualization.**"
   ]
  },
  {
   "cell_type": "markdown",
   "metadata": {},
   "source": [
    "### Insight #1 - What is the most common dog breed prediction ?\n",
    "- concatenate all prediction columns\n",
    "- get the top from `.describe()`."
   ]
  },
  {
   "cell_type": "code",
   "execution_count": 130,
   "metadata": {},
   "outputs": [
    {
     "data": {
      "text/plain": [
       "'golden_retriever'"
      ]
     },
     "execution_count": 130,
     "metadata": {},
     "output_type": "execute_result"
    }
   ],
   "source": [
    "cols = ['p1', 'p2', 'p3']\n",
    "series_lst = [master_df[col] for col in cols]\n",
    "all_predictions = pd.concat(objs=series_lst)\n",
    "all_predictions.describe()['top']"
   ]
  },
  {
   "cell_type": "markdown",
   "metadata": {},
   "source": [
    "### Insight #2 - What is the mean rating numerator ?\n",
    "- calculate `master_df['rating_numerator'].mean()`"
   ]
  },
  {
   "cell_type": "code",
   "execution_count": 131,
   "metadata": {},
   "outputs": [
    {
     "data": {
      "text/plain": [
       "'13.13'"
      ]
     },
     "execution_count": 131,
     "metadata": {},
     "output_type": "execute_result"
    }
   ],
   "source": [
    "format(master_df['rating_numerator'].mean(), '.2f')"
   ]
  },
  {
   "cell_type": "markdown",
   "metadata": {},
   "source": [
    "### Insight #3 - What is the mean text length for original WeRateDogs tweets?\n",
    "- Include only original tweets: `master_df['text'][master_df['is_original']]`\n",
    "- apply `len` for a new series using `.map()`\n",
    "- get `.mean()`"
   ]
  },
  {
   "cell_type": "code",
   "execution_count": 132,
   "metadata": {},
   "outputs": [
    {
     "data": {
      "text/plain": [
       "'120.10'"
      ]
     },
     "execution_count": 132,
     "metadata": {},
     "output_type": "execute_result"
    }
   ],
   "source": [
    "temp = master_df['text'][master_df['is_original']]\n",
    "size_ser = temp.map(len)\n",
    "format(size_ser.mean(), '.2f')"
   ]
  },
  {
   "cell_type": "markdown",
   "metadata": {},
   "source": [
    "### Insights:\n",
    "1. the most common dog breed prediction is <mark>Golden Retriever</mark>.\n",
    "2. the mean rating numerator is <mark>13.13</mark>.\n",
    "3. the mean text length (character count) for original WeRateDogs tweets is <mark>120.1</mark>."
   ]
  },
  {
   "cell_type": "markdown",
   "metadata": {
    "collapsed": true
   },
   "source": [
    "### Visualization"
   ]
  },
  {
   "cell_type": "code",
   "execution_count": 133,
   "metadata": {},
   "outputs": [],
   "source": [
    "from matplotlib import pyplot as plt\n",
    "%matplotlib widget"
   ]
  },
  {
   "cell_type": "markdown",
   "metadata": {},
   "source": [
    "### Original tweet count per month(line chart) #NOTE - expand figure\n",
    "- Include only original tweets: `master_df['timestamp'][master_df['is_original']]`\n",
    "- create a series of only \\<month name> \\<year> in string format\n",
    "- use `.value_counts()`\n",
    "- sort the values according to index in datetime format\n",
    "- plot a line chart"
   ]
  },
  {
   "cell_type": "code",
   "execution_count": 134,
   "metadata": {
    "scrolled": true
   },
   "outputs": [
    {
     "data": {
      "application/vnd.jupyter.widget-view+json": {
       "model_id": "aa487e5ba3c14ce8940dd7a29b976bcb",
       "version_major": 2,
       "version_minor": 0
      },
      "image/png": "[encoded data removed]",
      "text/html": [
       "\n",
       "            <div style=\"display: inline-block;\">\n",
       "                <div class=\"jupyter-widgets widget-label\" style=\"text-align: center;\">\n",
       "                    Figure\n",
       "                </div>\n",
       "                <img src='data:image/png;base64,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' width=640.0/>\n",
       "            </div>\n",
       "        "
      ],
      "text/plain": [
       "Canvas(toolbar=Toolbar(toolitems=[('Home', 'Reset original view', 'home', 'home'), ('Back', 'Back to previous …"
      ]
     },
     "metadata": {},
     "output_type": "display_data"
    }
   ],
   "source": [
    "temp = master_df['timestamp'][master_df['is_original']]\n",
    "time_ser = pd.Series(data=(temp.dt.month_name().astype('string') + ' ' + temp.dt.year.astype('string')))\n",
    "data = time_ser.value_counts().sort_values(key=lambda item: pd.to_datetime(item.index))\n",
    "fig, ax = plt.subplots()\n",
    "fig.autofmt_xdate()\n",
    "ax.plot(data)\n",
    "ax.set_ylabel('Tweet Count')\n",
    "plt.show()"
   ]
  }
 ],
 "metadata": {
  "extensions": {
   "jupyter_dashboards": {
    "activeView": "report_default",
    "version": 1,
    "views": {
     "grid_default": {
      "cellMargin": 10,
      "defaultCellHeight": 20,
      "maxColumns": 12,
      "name": "grid",
      "type": "grid"
     },
     "report_default": {
      "name": "report",
      "type": "report"
     }
    }
   }
  },
  "kernelspec": {
   "display_name": "Python 3 (ipykernel)",
   "language": "python",
   "name": "python3"
  },
  "language_info": {
   "codemirror_mode": {
    "name": "ipython",
    "version": 3
   },
   "file_extension": ".py",
   "mimetype": "text/x-python",
   "name": "python",
   "nbconvert_exporter": "python",
   "pygments_lexer": "ipython3",
   "version": "3.11.1"
  }
 },
 "nbformat": 4,
 "nbformat_minor": 2
}
